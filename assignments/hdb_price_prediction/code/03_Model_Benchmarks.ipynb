{
 "cells": [
  {
   "cell_type": "code",
   "execution_count": 64,
   "id": "ba60420d-ccd4-4975-8764-4dc8e2298e26",
   "metadata": {},
   "outputs": [],
   "source": [
    "# import libraries\n",
    "import numpy as np\n",
    "import pandas as pd\n",
    "import seaborn as sns\n",
    "import matplotlib.pyplot as plt"
   ]
  },
  {
   "cell_type": "code",
   "execution_count": 108,
   "id": "c190d002-389f-4490-b832-fd397e7afeb6",
   "metadata": {
    "tags": []
   },
   "outputs": [],
   "source": [
    "#sklearn  libraries\n",
    "from sklearn.linear_model import LinearRegression, Ridge, RidgeCV, Lasso, LassoCV\n",
    "\n",
    "#Train Test Split\n",
    "from sklearn.model_selection import train_test_split\n",
    "\n",
    "#Preprocessing:\n",
    "from sklearn.preprocessing import StandardScaler\n",
    "from sklearn.preprocessing import OneHotEncoder\n",
    "\n",
    "#Model Evaluation\n",
    "from sklearn import metrics\n",
    "from sklearn.model_selection import cross_val_score\n",
    "from sklearn.metrics import r2_score"
   ]
  },
  {
   "cell_type": "code",
   "execution_count": 66,
   "id": "f81bf164-c7b0-4a11-b9cf-17d0404ca6a6",
   "metadata": {
    "tags": []
   },
   "outputs": [
    {
     "data": {
      "text/html": [
       "<div>\n",
       "<style scoped>\n",
       "    .dataframe tbody tr th:only-of-type {\n",
       "        vertical-align: middle;\n",
       "    }\n",
       "\n",
       "    .dataframe tbody tr th {\n",
       "        vertical-align: top;\n",
       "    }\n",
       "\n",
       "    .dataframe thead th {\n",
       "        text-align: right;\n",
       "    }\n",
       "</style>\n",
       "<table border=\"1\" class=\"dataframe\">\n",
       "  <thead>\n",
       "    <tr style=\"text-align: right;\">\n",
       "      <th></th>\n",
       "      <th>id</th>\n",
       "      <th>Tranc_YearMonth</th>\n",
       "      <th>town</th>\n",
       "      <th>block</th>\n",
       "      <th>street_name</th>\n",
       "      <th>floor_area_sqm</th>\n",
       "      <th>lease_commence_date</th>\n",
       "      <th>resale_price</th>\n",
       "      <th>Tranc_Year</th>\n",
       "      <th>Tranc_Month</th>\n",
       "      <th>...</th>\n",
       "      <th>bus_stop_nearest_distance</th>\n",
       "      <th>bus_stop_name</th>\n",
       "      <th>pri_sch_nearest_distance</th>\n",
       "      <th>pri_sch_name</th>\n",
       "      <th>vacancy</th>\n",
       "      <th>pri_sch_affiliation</th>\n",
       "      <th>sec_sch_nearest_dist</th>\n",
       "      <th>sec_sch_name</th>\n",
       "      <th>cutoff_point</th>\n",
       "      <th>affiliation</th>\n",
       "    </tr>\n",
       "  </thead>\n",
       "  <tbody>\n",
       "    <tr>\n",
       "      <th>0</th>\n",
       "      <td>88471</td>\n",
       "      <td>2016-05-01</td>\n",
       "      <td>KALLANG/WHAMPOA</td>\n",
       "      <td>3B</td>\n",
       "      <td>UPP BOON KENG RD</td>\n",
       "      <td>90.0</td>\n",
       "      <td>2006</td>\n",
       "      <td>680000.0</td>\n",
       "      <td>2016</td>\n",
       "      <td>5</td>\n",
       "      <td>...</td>\n",
       "      <td>29.427395</td>\n",
       "      <td>Blk 3B</td>\n",
       "      <td>1138.633422</td>\n",
       "      <td>Geylang Methodist School</td>\n",
       "      <td>78</td>\n",
       "      <td>1</td>\n",
       "      <td>1138.633422</td>\n",
       "      <td>Geylang Methodist School</td>\n",
       "      <td>224</td>\n",
       "      <td>0</td>\n",
       "    </tr>\n",
       "    <tr>\n",
       "      <th>1</th>\n",
       "      <td>122598</td>\n",
       "      <td>2012-07-01</td>\n",
       "      <td>BISHAN</td>\n",
       "      <td>153</td>\n",
       "      <td>BISHAN ST 13</td>\n",
       "      <td>130.0</td>\n",
       "      <td>1987</td>\n",
       "      <td>665000.0</td>\n",
       "      <td>2012</td>\n",
       "      <td>7</td>\n",
       "      <td>...</td>\n",
       "      <td>58.207761</td>\n",
       "      <td>BLK 151A MKT</td>\n",
       "      <td>415.607357</td>\n",
       "      <td>Kuo Chuan Presbyterian Primary School</td>\n",
       "      <td>45</td>\n",
       "      <td>1</td>\n",
       "      <td>447.894399</td>\n",
       "      <td>Kuo Chuan Presbyterian Secondary School</td>\n",
       "      <td>232</td>\n",
       "      <td>0</td>\n",
       "    </tr>\n",
       "    <tr>\n",
       "      <th>2</th>\n",
       "      <td>170897</td>\n",
       "      <td>2013-07-01</td>\n",
       "      <td>BUKIT BATOK</td>\n",
       "      <td>289B</td>\n",
       "      <td>BT BATOK ST 25</td>\n",
       "      <td>144.0</td>\n",
       "      <td>1997</td>\n",
       "      <td>838000.0</td>\n",
       "      <td>2013</td>\n",
       "      <td>7</td>\n",
       "      <td>...</td>\n",
       "      <td>214.747860</td>\n",
       "      <td>Blk 289E</td>\n",
       "      <td>498.849039</td>\n",
       "      <td>Keming Primary School</td>\n",
       "      <td>39</td>\n",
       "      <td>0</td>\n",
       "      <td>180.074558</td>\n",
       "      <td>Yusof Ishak Secondary School</td>\n",
       "      <td>188</td>\n",
       "      <td>0</td>\n",
       "    </tr>\n",
       "    <tr>\n",
       "      <th>3</th>\n",
       "      <td>86070</td>\n",
       "      <td>2012-04-01</td>\n",
       "      <td>BISHAN</td>\n",
       "      <td>232</td>\n",
       "      <td>BISHAN ST 22</td>\n",
       "      <td>103.0</td>\n",
       "      <td>1992</td>\n",
       "      <td>550000.0</td>\n",
       "      <td>2012</td>\n",
       "      <td>4</td>\n",
       "      <td>...</td>\n",
       "      <td>43.396521</td>\n",
       "      <td>Opp Bishan Nth Shop Mall</td>\n",
       "      <td>389.515528</td>\n",
       "      <td>Catholic High School</td>\n",
       "      <td>20</td>\n",
       "      <td>1</td>\n",
       "      <td>389.515528</td>\n",
       "      <td>Catholic High School</td>\n",
       "      <td>253</td>\n",
       "      <td>1</td>\n",
       "    </tr>\n",
       "    <tr>\n",
       "      <th>4</th>\n",
       "      <td>153632</td>\n",
       "      <td>2017-12-01</td>\n",
       "      <td>YISHUN</td>\n",
       "      <td>876</td>\n",
       "      <td>YISHUN ST 81</td>\n",
       "      <td>83.0</td>\n",
       "      <td>1987</td>\n",
       "      <td>298000.0</td>\n",
       "      <td>2017</td>\n",
       "      <td>12</td>\n",
       "      <td>...</td>\n",
       "      <td>129.422752</td>\n",
       "      <td>Blk 873</td>\n",
       "      <td>401.200584</td>\n",
       "      <td>Naval Base Primary School</td>\n",
       "      <td>74</td>\n",
       "      <td>0</td>\n",
       "      <td>312.025435</td>\n",
       "      <td>Orchid Park Secondary School</td>\n",
       "      <td>208</td>\n",
       "      <td>0</td>\n",
       "    </tr>\n",
       "  </tbody>\n",
       "</table>\n",
       "<p>5 rows × 58 columns</p>\n",
       "</div>"
      ],
      "text/plain": [
       "       id Tranc_YearMonth             town block       street_name  \\\n",
       "0   88471      2016-05-01  KALLANG/WHAMPOA    3B  UPP BOON KENG RD   \n",
       "1  122598      2012-07-01           BISHAN   153      BISHAN ST 13   \n",
       "2  170897      2013-07-01      BUKIT BATOK  289B    BT BATOK ST 25   \n",
       "3   86070      2012-04-01           BISHAN   232      BISHAN ST 22   \n",
       "4  153632      2017-12-01           YISHUN   876      YISHUN ST 81   \n",
       "\n",
       "   floor_area_sqm  lease_commence_date  resale_price  Tranc_Year  Tranc_Month  \\\n",
       "0            90.0                 2006      680000.0        2016            5   \n",
       "1           130.0                 1987      665000.0        2012            7   \n",
       "2           144.0                 1997      838000.0        2013            7   \n",
       "3           103.0                 1992      550000.0        2012            4   \n",
       "4            83.0                 1987      298000.0        2017           12   \n",
       "\n",
       "   ...  bus_stop_nearest_distance             bus_stop_name  \\\n",
       "0  ...                  29.427395                    Blk 3B   \n",
       "1  ...                  58.207761              BLK 151A MKT   \n",
       "2  ...                 214.747860                  Blk 289E   \n",
       "3  ...                  43.396521  Opp Bishan Nth Shop Mall   \n",
       "4  ...                 129.422752                   Blk 873   \n",
       "\n",
       "  pri_sch_nearest_distance                           pri_sch_name  vacancy  \\\n",
       "0              1138.633422               Geylang Methodist School       78   \n",
       "1               415.607357  Kuo Chuan Presbyterian Primary School       45   \n",
       "2               498.849039                  Keming Primary School       39   \n",
       "3               389.515528                   Catholic High School       20   \n",
       "4               401.200584              Naval Base Primary School       74   \n",
       "\n",
       "   pri_sch_affiliation  sec_sch_nearest_dist  \\\n",
       "0                    1           1138.633422   \n",
       "1                    1            447.894399   \n",
       "2                    0            180.074558   \n",
       "3                    1            389.515528   \n",
       "4                    0            312.025435   \n",
       "\n",
       "                              sec_sch_name  cutoff_point  affiliation  \n",
       "0                 Geylang Methodist School           224            0  \n",
       "1  Kuo Chuan Presbyterian Secondary School           232            0  \n",
       "2             Yusof Ishak Secondary School           188            0  \n",
       "3                     Catholic High School           253            1  \n",
       "4             Orchid Park Secondary School           208            0  \n",
       "\n",
       "[5 rows x 58 columns]"
      ]
     },
     "execution_count": 66,
     "metadata": {},
     "output_type": "execute_result"
    }
   ],
   "source": [
    "df=pd.read_csv(\"../data/cleaned_for_modeling.csv\",low_memory=False)\n",
    "df.head()"
   ]
  },
  {
   "cell_type": "markdown",
   "id": "cce8ab44-1c31-4a24-a1fb-79f9037ee01c",
   "metadata": {},
   "source": [
    "1.1 Train_test_split "
   ]
  },
  {
   "cell_type": "code",
   "execution_count": 67,
   "id": "80015846-f86a-473b-8679-f460c5c642d3",
   "metadata": {
    "tags": []
   },
   "outputs": [],
   "source": [
    "df.drop(columns=['Tranc_YearMonth'], inplace = True)"
   ]
  },
  {
   "cell_type": "code",
   "execution_count": 68,
   "id": "a5bde20f-75d9-4778-ac4a-c2790f101a70",
   "metadata": {
    "tags": []
   },
   "outputs": [
    {
     "data": {
      "text/plain": [
       "Index(['town', 'block', 'street_name', 'full_flat_type', 'address', 'postal',\n",
       "       'planning_area', 'mrt_name', 'bus_stop_name', 'pri_sch_name',\n",
       "       'sec_sch_name'],\n",
       "      dtype='object')"
      ]
     },
     "execution_count": 68,
     "metadata": {},
     "output_type": "execute_result"
    }
   ],
   "source": [
    "df.select_dtypes(include='object').columns"
   ]
  },
  {
   "cell_type": "markdown",
   "id": "179ea5d3-82eb-43ee-90a4-3c2c4f3cc694",
   "metadata": {},
   "source": [
    "Comments:\n",
    "To decreas the complexity we can reduce some of the columns which are not relavent for the initial analysis.\n",
    "There are several columns describing the location of the HDB which would not perform well in the linear analysis.\n",
    "'block', 'street_name', 'address', 'bus_stop_name'"
   ]
  },
  {
   "cell_type": "code",
   "execution_count": 69,
   "id": "19788171-1e19-42d5-a316-442539abe6ab",
   "metadata": {
    "tags": []
   },
   "outputs": [],
   "source": [
    "df.drop(columns=['block', 'street_name','address', 'postal',\n",
    "       'planning_area', 'mrt_name', 'bus_stop_name', 'pri_sch_name',\n",
    "       'sec_sch_name'], inplace = True)"
   ]
  },
  {
   "cell_type": "code",
   "execution_count": 70,
   "id": "5014e640-1d1b-4688-b89d-369dfff1666b",
   "metadata": {
    "tags": []
   },
   "outputs": [
    {
     "data": {
      "text/plain": [
       "(150634, 48)"
      ]
     },
     "execution_count": 70,
     "metadata": {},
     "output_type": "execute_result"
    }
   ],
   "source": [
    "df.shape"
   ]
  },
  {
   "cell_type": "code",
   "execution_count": 71,
   "id": "9bd2faa5-1773-45b1-bf17-dbd6e6ffaaa3",
   "metadata": {
    "tags": []
   },
   "outputs": [],
   "source": [
    "y = df['resale_price']\n",
    "X = df.drop(columns = ['resale_price'])"
   ]
  },
  {
   "cell_type": "code",
   "execution_count": 72,
   "id": "d6ac7c4a-6cca-40bf-9f44-7318ea21b69c",
   "metadata": {
    "tags": []
   },
   "outputs": [],
   "source": [
    "X_train, X_test, y_train, y_test = train_test_split(X, y, test_size=0.25, random_state=42)"
   ]
  },
  {
   "cell_type": "code",
   "execution_count": 73,
   "id": "aaa4b440-e5aa-4651-8116-ece9ffb5dcfa",
   "metadata": {},
   "outputs": [
    {
     "data": {
      "text/plain": [
       "(112975, 47)"
      ]
     },
     "execution_count": 73,
     "metadata": {},
     "output_type": "execute_result"
    }
   ],
   "source": [
    "X_train.shape"
   ]
  },
  {
   "cell_type": "code",
   "execution_count": 74,
   "id": "2175dd4a-608c-403a-8597-bbb5f604e85e",
   "metadata": {
    "tags": []
   },
   "outputs": [
    {
     "data": {
      "text/html": [
       "<div>\n",
       "<style scoped>\n",
       "    .dataframe tbody tr th:only-of-type {\n",
       "        vertical-align: middle;\n",
       "    }\n",
       "\n",
       "    .dataframe tbody tr th {\n",
       "        vertical-align: top;\n",
       "    }\n",
       "\n",
       "    .dataframe thead th {\n",
       "        text-align: right;\n",
       "    }\n",
       "</style>\n",
       "<table border=\"1\" class=\"dataframe\">\n",
       "  <thead>\n",
       "    <tr style=\"text-align: right;\">\n",
       "      <th></th>\n",
       "      <th>id</th>\n",
       "      <th>town</th>\n",
       "      <th>floor_area_sqm</th>\n",
       "      <th>lease_commence_date</th>\n",
       "      <th>Tranc_Year</th>\n",
       "      <th>Tranc_Month</th>\n",
       "      <th>mid_storey</th>\n",
       "      <th>full_flat_type</th>\n",
       "      <th>hdb_age</th>\n",
       "      <th>max_floor_lvl</th>\n",
       "      <th>...</th>\n",
       "      <th>mrt_nearest_distance</th>\n",
       "      <th>bus_interchange</th>\n",
       "      <th>mrt_interchange</th>\n",
       "      <th>bus_stop_nearest_distance</th>\n",
       "      <th>pri_sch_nearest_distance</th>\n",
       "      <th>vacancy</th>\n",
       "      <th>pri_sch_affiliation</th>\n",
       "      <th>sec_sch_nearest_dist</th>\n",
       "      <th>cutoff_point</th>\n",
       "      <th>affiliation</th>\n",
       "    </tr>\n",
       "  </thead>\n",
       "  <tbody>\n",
       "    <tr>\n",
       "      <th>119232</th>\n",
       "      <td>141091</td>\n",
       "      <td>CENTRAL AREA</td>\n",
       "      <td>105.0</td>\n",
       "      <td>2002</td>\n",
       "      <td>2018</td>\n",
       "      <td>5</td>\n",
       "      <td>14</td>\n",
       "      <td>5 ROOM Improved</td>\n",
       "      <td>19</td>\n",
       "      <td>19</td>\n",
       "      <td>...</td>\n",
       "      <td>428.116622</td>\n",
       "      <td>0</td>\n",
       "      <td>1</td>\n",
       "      <td>77.613934</td>\n",
       "      <td>482.248922</td>\n",
       "      <td>57</td>\n",
       "      <td>0</td>\n",
       "      <td>1524.987856</td>\n",
       "      <td>260</td>\n",
       "      <td>1</td>\n",
       "    </tr>\n",
       "    <tr>\n",
       "      <th>77519</th>\n",
       "      <td>80265</td>\n",
       "      <td>GEYLANG</td>\n",
       "      <td>104.0</td>\n",
       "      <td>1985</td>\n",
       "      <td>2016</td>\n",
       "      <td>10</td>\n",
       "      <td>2</td>\n",
       "      <td>4 ROOM Model A</td>\n",
       "      <td>36</td>\n",
       "      <td>12</td>\n",
       "      <td>...</td>\n",
       "      <td>583.486739</td>\n",
       "      <td>0</td>\n",
       "      <td>0</td>\n",
       "      <td>84.243922</td>\n",
       "      <td>256.134712</td>\n",
       "      <td>43</td>\n",
       "      <td>1</td>\n",
       "      <td>215.199223</td>\n",
       "      <td>188</td>\n",
       "      <td>0</td>\n",
       "    </tr>\n",
       "    <tr>\n",
       "      <th>102223</th>\n",
       "      <td>111472</td>\n",
       "      <td>CHOA CHU KANG</td>\n",
       "      <td>122.0</td>\n",
       "      <td>1989</td>\n",
       "      <td>2021</td>\n",
       "      <td>4</td>\n",
       "      <td>11</td>\n",
       "      <td>5 ROOM Improved</td>\n",
       "      <td>32</td>\n",
       "      <td>12</td>\n",
       "      <td>...</td>\n",
       "      <td>611.625473</td>\n",
       "      <td>1</td>\n",
       "      <td>1</td>\n",
       "      <td>175.626599</td>\n",
       "      <td>160.722925</td>\n",
       "      <td>38</td>\n",
       "      <td>0</td>\n",
       "      <td>693.123603</td>\n",
       "      <td>211</td>\n",
       "      <td>0</td>\n",
       "    </tr>\n",
       "    <tr>\n",
       "      <th>120077</th>\n",
       "      <td>103915</td>\n",
       "      <td>SERANGOON</td>\n",
       "      <td>105.0</td>\n",
       "      <td>1989</td>\n",
       "      <td>2017</td>\n",
       "      <td>1</td>\n",
       "      <td>2</td>\n",
       "      <td>4 ROOM Model A</td>\n",
       "      <td>32</td>\n",
       "      <td>13</td>\n",
       "      <td>...</td>\n",
       "      <td>507.997575</td>\n",
       "      <td>1</td>\n",
       "      <td>1</td>\n",
       "      <td>150.573948</td>\n",
       "      <td>616.196146</td>\n",
       "      <td>44</td>\n",
       "      <td>0</td>\n",
       "      <td>284.855656</td>\n",
       "      <td>222</td>\n",
       "      <td>0</td>\n",
       "    </tr>\n",
       "    <tr>\n",
       "      <th>119742</th>\n",
       "      <td>149174</td>\n",
       "      <td>BUKIT BATOK</td>\n",
       "      <td>84.0</td>\n",
       "      <td>1986</td>\n",
       "      <td>2021</td>\n",
       "      <td>4</td>\n",
       "      <td>5</td>\n",
       "      <td>4 ROOM Simplified</td>\n",
       "      <td>35</td>\n",
       "      <td>9</td>\n",
       "      <td>...</td>\n",
       "      <td>551.835650</td>\n",
       "      <td>1</td>\n",
       "      <td>0</td>\n",
       "      <td>140.053213</td>\n",
       "      <td>165.758008</td>\n",
       "      <td>68</td>\n",
       "      <td>0</td>\n",
       "      <td>82.717674</td>\n",
       "      <td>205</td>\n",
       "      <td>0</td>\n",
       "    </tr>\n",
       "  </tbody>\n",
       "</table>\n",
       "<p>5 rows × 47 columns</p>\n",
       "</div>"
      ],
      "text/plain": [
       "            id           town  floor_area_sqm  lease_commence_date  \\\n",
       "119232  141091   CENTRAL AREA           105.0                 2002   \n",
       "77519    80265        GEYLANG           104.0                 1985   \n",
       "102223  111472  CHOA CHU KANG           122.0                 1989   \n",
       "120077  103915      SERANGOON           105.0                 1989   \n",
       "119742  149174    BUKIT BATOK            84.0                 1986   \n",
       "\n",
       "        Tranc_Year  Tranc_Month  mid_storey     full_flat_type  hdb_age  \\\n",
       "119232        2018            5          14    5 ROOM Improved       19   \n",
       "77519         2016           10           2     4 ROOM Model A       36   \n",
       "102223        2021            4          11    5 ROOM Improved       32   \n",
       "120077        2017            1           2     4 ROOM Model A       32   \n",
       "119742        2021            4           5  4 ROOM Simplified       35   \n",
       "\n",
       "        max_floor_lvl  ...  mrt_nearest_distance  bus_interchange  \\\n",
       "119232             19  ...            428.116622                0   \n",
       "77519              12  ...            583.486739                0   \n",
       "102223             12  ...            611.625473                1   \n",
       "120077             13  ...            507.997575                1   \n",
       "119742              9  ...            551.835650                1   \n",
       "\n",
       "        mrt_interchange  bus_stop_nearest_distance  pri_sch_nearest_distance  \\\n",
       "119232                1                  77.613934                482.248922   \n",
       "77519                 0                  84.243922                256.134712   \n",
       "102223                1                 175.626599                160.722925   \n",
       "120077                1                 150.573948                616.196146   \n",
       "119742                0                 140.053213                165.758008   \n",
       "\n",
       "        vacancy  pri_sch_affiliation  sec_sch_nearest_dist  cutoff_point  \\\n",
       "119232       57                    0           1524.987856           260   \n",
       "77519        43                    1            215.199223           188   \n",
       "102223       38                    0            693.123603           211   \n",
       "120077       44                    0            284.855656           222   \n",
       "119742       68                    0             82.717674           205   \n",
       "\n",
       "        affiliation  \n",
       "119232            1  \n",
       "77519             0  \n",
       "102223            0  \n",
       "120077            0  \n",
       "119742            0  \n",
       "\n",
       "[5 rows x 47 columns]"
      ]
     },
     "execution_count": 74,
     "metadata": {},
     "output_type": "execute_result"
    }
   ],
   "source": [
    "X_train.head().reset_index()\n",
    "X_train.head()"
   ]
  },
  {
   "cell_type": "markdown",
   "id": "28421bb2-5df0-473d-a8d6-7ca0947b88a5",
   "metadata": {},
   "source": [
    "**Categorical Data - Encoding**"
   ]
  },
  {
   "cell_type": "code",
   "execution_count": 75,
   "id": "c1db51a5-f076-4c2f-9906-53f5b170be69",
   "metadata": {
    "tags": []
   },
   "outputs": [],
   "source": [
    "X_train_obj = X_train.select_dtypes(include='object')\n",
    "X_test_obj = X_test.select_dtypes(include='object')\n",
    "\n",
    "X_train_obj.reset_index(inplace=True,drop=True)\n",
    "X_test_obj.reset_index(inplace=True,drop=True)\n",
    "\n",
    "enc = OneHotEncoder(drop = 'first', handle_unknown = 'ignore')\n",
    "X_train_enc = enc.fit_transform(X_train_obj)\n",
    "X_test_enc = enc.transform(X_test_obj)"
   ]
  },
  {
   "cell_type": "code",
   "execution_count": 76,
   "id": "9dd8b3be-05c1-4083-b35f-f7d0d78244f2",
   "metadata": {
    "tags": []
   },
   "outputs": [],
   "source": [
    "output_col_names = list(enc.get_feature_names_out())\n",
    "X_train_enc_df = pd.DataFrame(X_train_enc.toarray(), columns = output_col_names)\n",
    "X_test_enc_df = pd.DataFrame(X_test_enc.toarray(), columns = output_col_names)\n"
   ]
  },
  {
   "cell_type": "code",
   "execution_count": 77,
   "id": "85372569-bd5e-46a3-8d28-d2d92138ea7b",
   "metadata": {
    "tags": []
   },
   "outputs": [
    {
     "name": "stdout",
     "output_type": "stream",
     "text": [
      "(112975, 67)\n",
      "(37659, 67)\n"
     ]
    }
   ],
   "source": [
    "print(X_train_enc_df.shape)\n",
    "print(X_test_enc_df.shape)"
   ]
  },
  {
   "cell_type": "markdown",
   "id": "25a97669-6f99-4523-bdd8-d0219b3d85ad",
   "metadata": {},
   "source": [
    "**Numerical Data - Scaling**"
   ]
  },
  {
   "cell_type": "code",
   "execution_count": 78,
   "id": "6e7328d5-8314-4e93-ad2f-bd5f88993060",
   "metadata": {
    "tags": []
   },
   "outputs": [],
   "source": [
    "X_train_numeric = X_train.select_dtypes(exclude='object')\n",
    "X_test_numeric = X_test.select_dtypes(exclude='object')\n"
   ]
  },
  {
   "cell_type": "code",
   "execution_count": 79,
   "id": "99e86668-cf71-4999-9982-8032f87b7bd7",
   "metadata": {
    "tags": []
   },
   "outputs": [
    {
     "name": "stdout",
     "output_type": "stream",
     "text": [
      "(112975, 45)\n",
      "(37659, 45)\n"
     ]
    }
   ],
   "source": [
    "print(X_train_numeric.shape)\n",
    "print(X_test_numeric.shape)"
   ]
  },
  {
   "cell_type": "code",
   "execution_count": 80,
   "id": "88085758-0bd6-4ac0-b42d-f2e8f35d71b4",
   "metadata": {
    "tags": []
   },
   "outputs": [],
   "source": [
    "ss = StandardScaler()\n",
    "X_train_ss = ss.fit_transform(X_train_numeric)\n",
    "X_test_ss = ss.transform(X_test_numeric)"
   ]
  },
  {
   "cell_type": "code",
   "execution_count": 81,
   "id": "8e3fdb99-95b6-429b-aace-1840deb94e4e",
   "metadata": {
    "tags": []
   },
   "outputs": [],
   "source": [
    "output_col_names = list(ss.get_feature_names_out())\n",
    "X_train_ss_df = pd.DataFrame(X_train_ss, columns = output_col_names)\n",
    "X_test_ss_df = pd.DataFrame(X_test_ss, columns = output_col_names)"
   ]
  },
  {
   "cell_type": "code",
   "execution_count": 82,
   "id": "e615c322-bcfc-48fe-abd3-5bec40039ff1",
   "metadata": {
    "tags": []
   },
   "outputs": [
    {
     "name": "stdout",
     "output_type": "stream",
     "text": [
      "(112975, 45)\n",
      "(37659, 45)\n"
     ]
    }
   ],
   "source": [
    "print(X_train_ss_df.shape)\n",
    "print(X_test_ss_df.shape)"
   ]
  },
  {
   "cell_type": "code",
   "execution_count": 83,
   "id": "201cb141-480a-45af-978b-e3bfb2944cdc",
   "metadata": {
    "tags": []
   },
   "outputs": [
    {
     "data": {
      "text/html": [
       "<div>\n",
       "<style scoped>\n",
       "    .dataframe tbody tr th:only-of-type {\n",
       "        vertical-align: middle;\n",
       "    }\n",
       "\n",
       "    .dataframe tbody tr th {\n",
       "        vertical-align: top;\n",
       "    }\n",
       "\n",
       "    .dataframe thead th {\n",
       "        text-align: right;\n",
       "    }\n",
       "</style>\n",
       "<table border=\"1\" class=\"dataframe\">\n",
       "  <thead>\n",
       "    <tr style=\"text-align: right;\">\n",
       "      <th></th>\n",
       "      <th>id</th>\n",
       "      <th>floor_area_sqm</th>\n",
       "      <th>lease_commence_date</th>\n",
       "      <th>Tranc_Year</th>\n",
       "      <th>Tranc_Month</th>\n",
       "      <th>mid_storey</th>\n",
       "      <th>hdb_age</th>\n",
       "      <th>max_floor_lvl</th>\n",
       "      <th>commercial</th>\n",
       "      <th>market_hawker</th>\n",
       "      <th>...</th>\n",
       "      <th>mrt_nearest_distance</th>\n",
       "      <th>bus_interchange</th>\n",
       "      <th>mrt_interchange</th>\n",
       "      <th>bus_stop_nearest_distance</th>\n",
       "      <th>pri_sch_nearest_distance</th>\n",
       "      <th>vacancy</th>\n",
       "      <th>pri_sch_affiliation</th>\n",
       "      <th>sec_sch_nearest_dist</th>\n",
       "      <th>cutoff_point</th>\n",
       "      <th>affiliation</th>\n",
       "    </tr>\n",
       "  </thead>\n",
       "  <tbody>\n",
       "    <tr>\n",
       "      <th>0</th>\n",
       "      <td>0.893609</td>\n",
       "      <td>0.315498</td>\n",
       "      <td>0.786641</td>\n",
       "      <td>0.547976</td>\n",
       "      <td>-0.473321</td>\n",
       "      <td>1.033703</td>\n",
       "      <td>-0.786641</td>\n",
       "      <td>0.618328</td>\n",
       "      <td>2.061378</td>\n",
       "      <td>-0.009868</td>\n",
       "      <td>...</td>\n",
       "      <td>-0.782721</td>\n",
       "      <td>-1.096076</td>\n",
       "      <td>1.670318</td>\n",
       "      <td>-0.678475</td>\n",
       "      <td>0.368935</td>\n",
       "      <td>0.091917</td>\n",
       "      <td>-0.357112</td>\n",
       "      <td>3.285180</td>\n",
       "      <td>2.488833</td>\n",
       "      <td>5.511982</td>\n",
       "    </tr>\n",
       "    <tr>\n",
       "      <th>1</th>\n",
       "      <td>-0.239349</td>\n",
       "      <td>0.274537</td>\n",
       "      <td>-0.615564</td>\n",
       "      <td>-0.178507</td>\n",
       "      <td>1.021654</td>\n",
       "      <td>-1.136708</td>\n",
       "      <td>0.615564</td>\n",
       "      <td>-0.503510</td>\n",
       "      <td>-0.485112</td>\n",
       "      <td>-0.009868</td>\n",
       "      <td>...</td>\n",
       "      <td>-0.420708</td>\n",
       "      <td>-1.096076</td>\n",
       "      <td>-0.598688</td>\n",
       "      <td>-0.559372</td>\n",
       "      <td>-0.591934</td>\n",
       "      <td>-0.690164</td>\n",
       "      <td>2.800244</td>\n",
       "      <td>-0.949260</td>\n",
       "      <td>-1.106627</td>\n",
       "      <td>-0.181423</td>\n",
       "    </tr>\n",
       "    <tr>\n",
       "      <th>2</th>\n",
       "      <td>0.341919</td>\n",
       "      <td>1.011823</td>\n",
       "      <td>-0.285633</td>\n",
       "      <td>1.637699</td>\n",
       "      <td>-0.772316</td>\n",
       "      <td>0.491100</td>\n",
       "      <td>0.285633</td>\n",
       "      <td>-0.503510</td>\n",
       "      <td>-0.485112</td>\n",
       "      <td>-0.009868</td>\n",
       "      <td>...</td>\n",
       "      <td>-0.355144</td>\n",
       "      <td>0.912345</td>\n",
       "      <td>1.670318</td>\n",
       "      <td>1.082249</td>\n",
       "      <td>-0.997386</td>\n",
       "      <td>-0.969478</td>\n",
       "      <td>-0.357112</td>\n",
       "      <td>0.595831</td>\n",
       "      <td>0.041923</td>\n",
       "      <td>-0.181423</td>\n",
       "    </tr>\n",
       "    <tr>\n",
       "      <th>3</th>\n",
       "      <td>0.201161</td>\n",
       "      <td>0.315498</td>\n",
       "      <td>-0.285633</td>\n",
       "      <td>0.184735</td>\n",
       "      <td>-1.669301</td>\n",
       "      <td>-1.136708</td>\n",
       "      <td>0.285633</td>\n",
       "      <td>-0.343248</td>\n",
       "      <td>-0.485112</td>\n",
       "      <td>-0.009868</td>\n",
       "      <td>...</td>\n",
       "      <td>-0.596598</td>\n",
       "      <td>0.912345</td>\n",
       "      <td>1.670318</td>\n",
       "      <td>0.632197</td>\n",
       "      <td>0.938142</td>\n",
       "      <td>-0.634301</td>\n",
       "      <td>-0.357112</td>\n",
       "      <td>-0.724066</td>\n",
       "      <td>0.591229</td>\n",
       "      <td>-0.181423</td>\n",
       "    </tr>\n",
       "    <tr>\n",
       "      <th>4</th>\n",
       "      <td>1.044164</td>\n",
       "      <td>-0.544669</td>\n",
       "      <td>-0.533081</td>\n",
       "      <td>1.637699</td>\n",
       "      <td>-0.772316</td>\n",
       "      <td>-0.594105</td>\n",
       "      <td>0.533081</td>\n",
       "      <td>-0.984298</td>\n",
       "      <td>-0.485112</td>\n",
       "      <td>-0.009868</td>\n",
       "      <td>...</td>\n",
       "      <td>-0.494455</td>\n",
       "      <td>0.912345</td>\n",
       "      <td>-0.598688</td>\n",
       "      <td>0.443200</td>\n",
       "      <td>-0.975989</td>\n",
       "      <td>0.706408</td>\n",
       "      <td>-0.357112</td>\n",
       "      <td>-1.377562</td>\n",
       "      <td>-0.257699</td>\n",
       "      <td>-0.181423</td>\n",
       "    </tr>\n",
       "  </tbody>\n",
       "</table>\n",
       "<p>5 rows × 45 columns</p>\n",
       "</div>"
      ],
      "text/plain": [
       "         id  floor_area_sqm  lease_commence_date  Tranc_Year  Tranc_Month  \\\n",
       "0  0.893609        0.315498             0.786641    0.547976    -0.473321   \n",
       "1 -0.239349        0.274537            -0.615564   -0.178507     1.021654   \n",
       "2  0.341919        1.011823            -0.285633    1.637699    -0.772316   \n",
       "3  0.201161        0.315498            -0.285633    0.184735    -1.669301   \n",
       "4  1.044164       -0.544669            -0.533081    1.637699    -0.772316   \n",
       "\n",
       "   mid_storey   hdb_age  max_floor_lvl  commercial  market_hawker  ...  \\\n",
       "0    1.033703 -0.786641       0.618328    2.061378      -0.009868  ...   \n",
       "1   -1.136708  0.615564      -0.503510   -0.485112      -0.009868  ...   \n",
       "2    0.491100  0.285633      -0.503510   -0.485112      -0.009868  ...   \n",
       "3   -1.136708  0.285633      -0.343248   -0.485112      -0.009868  ...   \n",
       "4   -0.594105  0.533081      -0.984298   -0.485112      -0.009868  ...   \n",
       "\n",
       "   mrt_nearest_distance  bus_interchange  mrt_interchange  \\\n",
       "0             -0.782721        -1.096076         1.670318   \n",
       "1             -0.420708        -1.096076        -0.598688   \n",
       "2             -0.355144         0.912345         1.670318   \n",
       "3             -0.596598         0.912345         1.670318   \n",
       "4             -0.494455         0.912345        -0.598688   \n",
       "\n",
       "   bus_stop_nearest_distance  pri_sch_nearest_distance   vacancy  \\\n",
       "0                  -0.678475                  0.368935  0.091917   \n",
       "1                  -0.559372                 -0.591934 -0.690164   \n",
       "2                   1.082249                 -0.997386 -0.969478   \n",
       "3                   0.632197                  0.938142 -0.634301   \n",
       "4                   0.443200                 -0.975989  0.706408   \n",
       "\n",
       "   pri_sch_affiliation  sec_sch_nearest_dist  cutoff_point  affiliation  \n",
       "0            -0.357112              3.285180      2.488833     5.511982  \n",
       "1             2.800244             -0.949260     -1.106627    -0.181423  \n",
       "2            -0.357112              0.595831      0.041923    -0.181423  \n",
       "3            -0.357112             -0.724066      0.591229    -0.181423  \n",
       "4            -0.357112             -1.377562     -0.257699    -0.181423  \n",
       "\n",
       "[5 rows x 45 columns]"
      ]
     },
     "execution_count": 83,
     "metadata": {},
     "output_type": "execute_result"
    }
   ],
   "source": [
    "X_train_ss_df.head()"
   ]
  },
  {
   "cell_type": "code",
   "execution_count": 84,
   "id": "e645b4fd-21d3-47e7-a5ec-9d7b5e4d0f7f",
   "metadata": {
    "tags": []
   },
   "outputs": [
    {
     "data": {
      "text/plain": [
       "(37659, 112)"
      ]
     },
     "execution_count": 84,
     "metadata": {},
     "output_type": "execute_result"
    }
   ],
   "source": [
    "X_train = pd.concat(objs = [X_train_enc_df, X_train_ss_df], axis = 1)\n",
    "X_train.shape\n",
    "\n",
    "X_test = pd.concat(objs = [X_test_enc_df, X_test_ss_df], axis = 1)\n",
    "X_test.shape"
   ]
  },
  {
   "cell_type": "markdown",
   "id": "155aa7ee-6623-4cea-871a-d160ba587c86",
   "metadata": {
    "tags": []
   },
   "source": [
    "## Modeling ##"
   ]
  },
  {
   "cell_type": "markdown",
   "id": "2a203124-d15c-44c9-a6bf-53d95a161d23",
   "metadata": {},
   "source": [
    "### Linear Regression"
   ]
  },
  {
   "cell_type": "code",
   "execution_count": 85,
   "id": "e25b8037-b2c3-4ce5-a1e6-50c0d4fd946f",
   "metadata": {
    "tags": []
   },
   "outputs": [
    {
     "data": {
      "text/html": [
       "<style>#sk-container-id-4 {color: black;background-color: white;}#sk-container-id-4 pre{padding: 0;}#sk-container-id-4 div.sk-toggleable {background-color: white;}#sk-container-id-4 label.sk-toggleable__label {cursor: pointer;display: block;width: 100%;margin-bottom: 0;padding: 0.3em;box-sizing: border-box;text-align: center;}#sk-container-id-4 label.sk-toggleable__label-arrow:before {content: \"▸\";float: left;margin-right: 0.25em;color: #696969;}#sk-container-id-4 label.sk-toggleable__label-arrow:hover:before {color: black;}#sk-container-id-4 div.sk-estimator:hover label.sk-toggleable__label-arrow:before {color: black;}#sk-container-id-4 div.sk-toggleable__content {max-height: 0;max-width: 0;overflow: hidden;text-align: left;background-color: #f0f8ff;}#sk-container-id-4 div.sk-toggleable__content pre {margin: 0.2em;color: black;border-radius: 0.25em;background-color: #f0f8ff;}#sk-container-id-4 input.sk-toggleable__control:checked~div.sk-toggleable__content {max-height: 200px;max-width: 100%;overflow: auto;}#sk-container-id-4 input.sk-toggleable__control:checked~label.sk-toggleable__label-arrow:before {content: \"▾\";}#sk-container-id-4 div.sk-estimator input.sk-toggleable__control:checked~label.sk-toggleable__label {background-color: #d4ebff;}#sk-container-id-4 div.sk-label input.sk-toggleable__control:checked~label.sk-toggleable__label {background-color: #d4ebff;}#sk-container-id-4 input.sk-hidden--visually {border: 0;clip: rect(1px 1px 1px 1px);clip: rect(1px, 1px, 1px, 1px);height: 1px;margin: -1px;overflow: hidden;padding: 0;position: absolute;width: 1px;}#sk-container-id-4 div.sk-estimator {font-family: monospace;background-color: #f0f8ff;border: 1px dotted black;border-radius: 0.25em;box-sizing: border-box;margin-bottom: 0.5em;}#sk-container-id-4 div.sk-estimator:hover {background-color: #d4ebff;}#sk-container-id-4 div.sk-parallel-item::after {content: \"\";width: 100%;border-bottom: 1px solid gray;flex-grow: 1;}#sk-container-id-4 div.sk-label:hover label.sk-toggleable__label {background-color: #d4ebff;}#sk-container-id-4 div.sk-serial::before {content: \"\";position: absolute;border-left: 1px solid gray;box-sizing: border-box;top: 0;bottom: 0;left: 50%;z-index: 0;}#sk-container-id-4 div.sk-serial {display: flex;flex-direction: column;align-items: center;background-color: white;padding-right: 0.2em;padding-left: 0.2em;position: relative;}#sk-container-id-4 div.sk-item {position: relative;z-index: 1;}#sk-container-id-4 div.sk-parallel {display: flex;align-items: stretch;justify-content: center;background-color: white;position: relative;}#sk-container-id-4 div.sk-item::before, #sk-container-id-4 div.sk-parallel-item::before {content: \"\";position: absolute;border-left: 1px solid gray;box-sizing: border-box;top: 0;bottom: 0;left: 50%;z-index: -1;}#sk-container-id-4 div.sk-parallel-item {display: flex;flex-direction: column;z-index: 1;position: relative;background-color: white;}#sk-container-id-4 div.sk-parallel-item:first-child::after {align-self: flex-end;width: 50%;}#sk-container-id-4 div.sk-parallel-item:last-child::after {align-self: flex-start;width: 50%;}#sk-container-id-4 div.sk-parallel-item:only-child::after {width: 0;}#sk-container-id-4 div.sk-dashed-wrapped {border: 1px dashed gray;margin: 0 0.4em 0.5em 0.4em;box-sizing: border-box;padding-bottom: 0.4em;background-color: white;}#sk-container-id-4 div.sk-label label {font-family: monospace;font-weight: bold;display: inline-block;line-height: 1.2em;}#sk-container-id-4 div.sk-label-container {text-align: center;}#sk-container-id-4 div.sk-container {/* jupyter's `normalize.less` sets `[hidden] { display: none; }` but bootstrap.min.css set `[hidden] { display: none !important; }` so we also need the `!important` here to be able to override the default hidden behavior on the sphinx rendered scikit-learn.org. See: https://github.com/scikit-learn/scikit-learn/issues/21755 */display: inline-block !important;position: relative;}#sk-container-id-4 div.sk-text-repr-fallback {display: none;}</style><div id=\"sk-container-id-4\" class=\"sk-top-container\"><div class=\"sk-text-repr-fallback\"><pre>LinearRegression()</pre><b>In a Jupyter environment, please rerun this cell to show the HTML representation or trust the notebook. <br />On GitHub, the HTML representation is unable to render, please try loading this page with nbviewer.org.</b></div><div class=\"sk-container\" hidden><div class=\"sk-item\"><div class=\"sk-estimator sk-toggleable\"><input class=\"sk-toggleable__control sk-hidden--visually\" id=\"sk-estimator-id-4\" type=\"checkbox\" checked><label for=\"sk-estimator-id-4\" class=\"sk-toggleable__label sk-toggleable__label-arrow\">LinearRegression</label><div class=\"sk-toggleable__content\"><pre>LinearRegression()</pre></div></div></div></div></div>"
      ],
      "text/plain": [
       "LinearRegression()"
      ]
     },
     "execution_count": 85,
     "metadata": {},
     "output_type": "execute_result"
    }
   ],
   "source": [
    "lr = LinearRegression()\n",
    "lr.fit(X_train, y_train)"
   ]
  },
  {
   "cell_type": "markdown",
   "id": "03adf0f2-dfa9-4653-bf5e-4d964b6b46a5",
   "metadata": {},
   "source": [
    "Model performance"
   ]
  },
  {
   "cell_type": "code",
   "execution_count": 86,
   "id": "4791b5d4-569c-446d-91fc-e9941a372ed6",
   "metadata": {
    "tags": []
   },
   "outputs": [
    {
     "name": "stdout",
     "output_type": "stream",
     "text": [
      "0.891626294165995\n",
      "0.8916086039715208\n"
     ]
    }
   ],
   "source": [
    "#R2 score\n",
    "print(lr.score(X_train, y_train))\n",
    "print(lr.score(X_test, y_test))"
   ]
  },
  {
   "cell_type": "code",
   "execution_count": 87,
   "id": "3be443d2-4511-4c47-b05b-73709b39959a",
   "metadata": {
    "tags": []
   },
   "outputs": [
    {
     "data": {
      "text/plain": [
       "-5.035885855401213e+17"
      ]
     },
     "execution_count": 87,
     "metadata": {},
     "output_type": "execute_result"
    }
   ],
   "source": [
    "#Cross validation score:\n",
    "cross_val_score(lr, X_train, y_train).mean()"
   ]
  },
  {
   "cell_type": "code",
   "execution_count": 88,
   "id": "82a4ff27-2bc6-4dea-9db4-cf253218b05a",
   "metadata": {
    "tags": []
   },
   "outputs": [
    {
     "data": {
      "text/plain": [
       "47237.19568535129"
      ]
     },
     "execution_count": 88,
     "metadata": {},
     "output_type": "execute_result"
    }
   ],
   "source": [
    "#RMSE train score\n",
    "y_train_pred = lr.predict(X_train)\n",
    "np.sqrt(metrics.mean_squared_error(y_train, y_train_pred))"
   ]
  },
  {
   "cell_type": "code",
   "execution_count": 89,
   "id": "87fb1440-3c36-462b-b8fc-1b0c1379c0ae",
   "metadata": {
    "tags": []
   },
   "outputs": [
    {
     "data": {
      "text/plain": [
       "46996.45864962206"
      ]
     },
     "execution_count": 89,
     "metadata": {},
     "output_type": "execute_result"
    }
   ],
   "source": [
    "#RMSE test score\n",
    "y_test_pred = lr.predict(X_test)\n",
    "np.sqrt(metrics.mean_squared_error(y_test, y_test_pred))"
   ]
  },
  {
   "cell_type": "code",
   "execution_count": 131,
   "id": "c228428e-bc58-419f-93a4-2fd93d4ca445",
   "metadata": {
    "tags": []
   },
   "outputs": [
    {
     "data": {
      "image/png": "[encoded data removed]",
      "text/plain": [
       "<Figure size 600x600 with 3 Axes>"
      ]
     },
     "metadata": {},
     "output_type": "display_data"
    }
   ],
   "source": [
    "#to check the model performance. Predicated price (y-axis) vs test (x-axis) values\n",
    "jp =sns.jointplot(x=y_test, y= y_test_pred)\n",
    "jp.set_axis_labels('y_test', 'y_test_pred')\n",
    "\n",
    "plt.savefig('../data/output/images/predicted_vs_test.png')\n",
    "plt.show()"
   ]
  },
  {
   "cell_type": "code",
   "execution_count": null,
   "id": "7321d9d8-e631-49c9-b98d-faa86582823d",
   "metadata": {},
   "outputs": [],
   "source": []
  },
  {
   "cell_type": "markdown",
   "id": "5f876656-9f6a-4ab7-9603-bc71318c8c37",
   "metadata": {
    "tags": []
   },
   "source": [
    "Comments:\n",
    "    "
   ]
  },
  {
   "cell_type": "markdown",
   "id": "95458e2e-34ef-40ac-9172-f4c7d509e568",
   "metadata": {
    "tags": []
   },
   "source": [
    "## RidgeCV"
   ]
  },
  {
   "cell_type": "code",
   "execution_count": 126,
   "id": "9da88267-9a6a-4756-bf62-a70c503b3ea6",
   "metadata": {
    "tags": []
   },
   "outputs": [
    {
     "name": "stdout",
     "output_type": "stream",
     "text": [
      "CPU times: total: 6.61 s\n",
      "Wall time: 3.07 s\n"
     ]
    },
    {
     "data": {
      "text/html": [
       "<style>#sk-container-id-9 {color: black;background-color: white;}#sk-container-id-9 pre{padding: 0;}#sk-container-id-9 div.sk-toggleable {background-color: white;}#sk-container-id-9 label.sk-toggleable__label {cursor: pointer;display: block;width: 100%;margin-bottom: 0;padding: 0.3em;box-sizing: border-box;text-align: center;}#sk-container-id-9 label.sk-toggleable__label-arrow:before {content: \"▸\";float: left;margin-right: 0.25em;color: #696969;}#sk-container-id-9 label.sk-toggleable__label-arrow:hover:before {color: black;}#sk-container-id-9 div.sk-estimator:hover label.sk-toggleable__label-arrow:before {color: black;}#sk-container-id-9 div.sk-toggleable__content {max-height: 0;max-width: 0;overflow: hidden;text-align: left;background-color: #f0f8ff;}#sk-container-id-9 div.sk-toggleable__content pre {margin: 0.2em;color: black;border-radius: 0.25em;background-color: #f0f8ff;}#sk-container-id-9 input.sk-toggleable__control:checked~div.sk-toggleable__content {max-height: 200px;max-width: 100%;overflow: auto;}#sk-container-id-9 input.sk-toggleable__control:checked~label.sk-toggleable__label-arrow:before {content: \"▾\";}#sk-container-id-9 div.sk-estimator input.sk-toggleable__control:checked~label.sk-toggleable__label {background-color: #d4ebff;}#sk-container-id-9 div.sk-label input.sk-toggleable__control:checked~label.sk-toggleable__label {background-color: #d4ebff;}#sk-container-id-9 input.sk-hidden--visually {border: 0;clip: rect(1px 1px 1px 1px);clip: rect(1px, 1px, 1px, 1px);height: 1px;margin: -1px;overflow: hidden;padding: 0;position: absolute;width: 1px;}#sk-container-id-9 div.sk-estimator {font-family: monospace;background-color: #f0f8ff;border: 1px dotted black;border-radius: 0.25em;box-sizing: border-box;margin-bottom: 0.5em;}#sk-container-id-9 div.sk-estimator:hover {background-color: #d4ebff;}#sk-container-id-9 div.sk-parallel-item::after {content: \"\";width: 100%;border-bottom: 1px solid gray;flex-grow: 1;}#sk-container-id-9 div.sk-label:hover label.sk-toggleable__label {background-color: #d4ebff;}#sk-container-id-9 div.sk-serial::before {content: \"\";position: absolute;border-left: 1px solid gray;box-sizing: border-box;top: 0;bottom: 0;left: 50%;z-index: 0;}#sk-container-id-9 div.sk-serial {display: flex;flex-direction: column;align-items: center;background-color: white;padding-right: 0.2em;padding-left: 0.2em;position: relative;}#sk-container-id-9 div.sk-item {position: relative;z-index: 1;}#sk-container-id-9 div.sk-parallel {display: flex;align-items: stretch;justify-content: center;background-color: white;position: relative;}#sk-container-id-9 div.sk-item::before, #sk-container-id-9 div.sk-parallel-item::before {content: \"\";position: absolute;border-left: 1px solid gray;box-sizing: border-box;top: 0;bottom: 0;left: 50%;z-index: -1;}#sk-container-id-9 div.sk-parallel-item {display: flex;flex-direction: column;z-index: 1;position: relative;background-color: white;}#sk-container-id-9 div.sk-parallel-item:first-child::after {align-self: flex-end;width: 50%;}#sk-container-id-9 div.sk-parallel-item:last-child::after {align-self: flex-start;width: 50%;}#sk-container-id-9 div.sk-parallel-item:only-child::after {width: 0;}#sk-container-id-9 div.sk-dashed-wrapped {border: 1px dashed gray;margin: 0 0.4em 0.5em 0.4em;box-sizing: border-box;padding-bottom: 0.4em;background-color: white;}#sk-container-id-9 div.sk-label label {font-family: monospace;font-weight: bold;display: inline-block;line-height: 1.2em;}#sk-container-id-9 div.sk-label-container {text-align: center;}#sk-container-id-9 div.sk-container {/* jupyter's `normalize.less` sets `[hidden] { display: none; }` but bootstrap.min.css set `[hidden] { display: none !important; }` so we also need the `!important` here to be able to override the default hidden behavior on the sphinx rendered scikit-learn.org. See: https://github.com/scikit-learn/scikit-learn/issues/21755 */display: inline-block !important;position: relative;}#sk-container-id-9 div.sk-text-repr-fallback {display: none;}</style><div id=\"sk-container-id-9\" class=\"sk-top-container\"><div class=\"sk-text-repr-fallback\"><pre>RidgeCV(alphas=[0.1, 1, 10], cv=5, scoring=&#x27;neg_mean_squared_error&#x27;)</pre><b>In a Jupyter environment, please rerun this cell to show the HTML representation or trust the notebook. <br />On GitHub, the HTML representation is unable to render, please try loading this page with nbviewer.org.</b></div><div class=\"sk-container\" hidden><div class=\"sk-item\"><div class=\"sk-estimator sk-toggleable\"><input class=\"sk-toggleable__control sk-hidden--visually\" id=\"sk-estimator-id-9\" type=\"checkbox\" checked><label for=\"sk-estimator-id-9\" class=\"sk-toggleable__label sk-toggleable__label-arrow\">RidgeCV</label><div class=\"sk-toggleable__content\"><pre>RidgeCV(alphas=[0.1, 1, 10], cv=5, scoring=&#x27;neg_mean_squared_error&#x27;)</pre></div></div></div></div></div>"
      ],
      "text/plain": [
       "RidgeCV(alphas=[0.1, 1, 10], cv=5, scoring='neg_mean_squared_error')"
      ]
     },
     "execution_count": 126,
     "metadata": {},
     "output_type": "execute_result"
    }
   ],
   "source": [
    "%%time\n",
    "# Define the alpha values to be parameterize\n",
    "alphas = [0.1, 1, 10]\n",
    "\n",
    "# Define the model/estimator-  here we leave it to default\n",
    "RidgeCV = RidgeCV(alphas=alphas, scoring='neg_mean_squared_error', cv=5)\n",
    "\n",
    "# Fit the model\n",
    "RidgeCV.fit(X_train,y_train)"
   ]
  },
  {
   "cell_type": "code",
   "execution_count": 127,
   "id": "cadff541-08b1-4cd2-8934-638988a419c7",
   "metadata": {
    "tags": []
   },
   "outputs": [
    {
     "data": {
      "text/plain": [
       "0.1"
      ]
     },
     "execution_count": 127,
     "metadata": {},
     "output_type": "execute_result"
    }
   ],
   "source": [
    "best_alpha = RidgeCV.alpha_\n",
    "best_alpha"
   ]
  },
  {
   "cell_type": "markdown",
   "id": "69ec8e6d-8af0-4200-a6d1-33ad2fb1773d",
   "metadata": {},
   "source": [
    "#### Model performance"
   ]
  },
  {
   "cell_type": "code",
   "execution_count": 93,
   "id": "5c2f8f09-2fea-40f0-9260-b0befdd70cfa",
   "metadata": {
    "tags": []
   },
   "outputs": [
    {
     "name": "stdout",
     "output_type": "stream",
     "text": [
      "0.891626176590408\n",
      "0.8916091810087101\n"
     ]
    }
   ],
   "source": [
    "#R2 score\n",
    "print(RidgeCV.score(X_train, y_train))\n",
    "print(RidgeCV.score(X_test, y_test))"
   ]
  },
  {
   "cell_type": "code",
   "execution_count": 94,
   "id": "48cacb47-616b-45de-9520-5acd9529e902",
   "metadata": {
    "tags": []
   },
   "outputs": [
    {
     "data": {
      "text/plain": [
       "0.8913212642581311"
      ]
     },
     "execution_count": 94,
     "metadata": {},
     "output_type": "execute_result"
    }
   ],
   "source": [
    "#Cross validation score:\n",
    "Ridge = Ridge(alpha = best_alpha)\n",
    "cross_val_score(Ridge, X_train, y_train).mean()"
   ]
  },
  {
   "cell_type": "code",
   "execution_count": 95,
   "id": "c1870251-5c07-40b7-a4ab-e79338800cd8",
   "metadata": {
    "tags": []
   },
   "outputs": [
    {
     "data": {
      "text/plain": [
       "47237.22130936898"
      ]
     },
     "execution_count": 95,
     "metadata": {},
     "output_type": "execute_result"
    }
   ],
   "source": [
    "#RMSE train score using RidgeCV\n",
    "y_train_pred = RidgeCV.predict(X_train)\n",
    "np.sqrt(metrics.mean_squared_error(y_train, y_train_pred))"
   ]
  },
  {
   "cell_type": "code",
   "execution_count": 96,
   "id": "021ae54e-63ca-48c0-9782-fc64f29a39e9",
   "metadata": {
    "tags": []
   },
   "outputs": [
    {
     "data": {
      "text/plain": [
       "46996.333553251425"
      ]
     },
     "execution_count": 96,
     "metadata": {},
     "output_type": "execute_result"
    }
   ],
   "source": [
    "#RMSE test score using RidgeCV\n",
    "y_test_pred = RidgeCV.predict(X_test)\n",
    "np.sqrt(metrics.mean_squared_error(y_test, y_test_pred))"
   ]
  },
  {
   "cell_type": "markdown",
   "id": "18420f1b-562e-4469-a74f-cf24681ffecf",
   "metadata": {},
   "source": [
    "## LASSOCV MODELLING"
   ]
  },
  {
   "cell_type": "code",
   "execution_count": 112,
   "id": "e134a910-3481-44eb-acf7-4c7aede98c34",
   "metadata": {
    "tags": []
   },
   "outputs": [
    {
     "name": "stdout",
     "output_type": "stream",
     "text": [
      "93.70168342510757\n",
      "CPU times: total: 24.3 s\n",
      "Wall time: 19 s\n"
     ]
    }
   ],
   "source": [
    "%%time\n",
    "optimal_lasso = LassoCV(n_alphas=500, cv=10)\n",
    "optimal_lasso.fit(X_train, y_train)\n",
    "print (optimal_lasso.alpha_)\n",
    "# Lasso = LassoCV(max_iter=10000)\n",
    "# Lasso.fit(X_train, y_train)"
   ]
  },
  {
   "cell_type": "markdown",
   "id": "5de56036-3bd9-4d64-b02f-ff2e35b54654",
   "metadata": {},
   "source": [
    "### model performance"
   ]
  },
  {
   "cell_type": "code",
   "execution_count": 113,
   "id": "c94d66b1-1025-4622-890c-5d08ca7d4050",
   "metadata": {
    "tags": []
   },
   "outputs": [
    {
     "name": "stdout",
     "output_type": "stream",
     "text": [
      "0.8861298416528276\n",
      "0.8855905720799889\n"
     ]
    }
   ],
   "source": [
    "print(optimal_lasso.score(X_train, y_train))\n",
    "print(optimal_lasso.score(X_test, y_test))"
   ]
  },
  {
   "cell_type": "code",
   "execution_count": 121,
   "id": "f1c8416c-0d41-48d1-a565-d947f295be89",
   "metadata": {
    "tags": []
   },
   "outputs": [
    {
     "name": "stdout",
     "output_type": "stream",
     "text": [
      "0.8858301913744462\n"
     ]
    }
   ],
   "source": [
    "#Cross validation score:\n",
    "lasso = Lasso(alpha = optimal_lasso.alpha_)\n",
    "lasso_scores = cross_val_score(lasso, X_train, y_train, cv=5).mean()\n",
    "print (lasso_scores)"
   ]
  },
  {
   "cell_type": "code",
   "execution_count": 116,
   "id": "762b192d-1ee0-4ca1-ae75-ee5857b5a356",
   "metadata": {
    "tags": []
   },
   "outputs": [
    {
     "data": {
      "text/plain": [
       "48420.25889712786"
      ]
     },
     "execution_count": 116,
     "metadata": {},
     "output_type": "execute_result"
    }
   ],
   "source": [
    "#RMSE train score\n",
    "y_train_pred = optimal_lasso.predict(X_train)\n",
    "np.sqrt(metrics.mean_squared_error(y_train, y_train_pred))"
   ]
  },
  {
   "cell_type": "code",
   "execution_count": 117,
   "id": "d3b12849-9762-48c4-b891-06b4eb5795bb",
   "metadata": {
    "tags": []
   },
   "outputs": [
    {
     "data": {
      "text/plain": [
       "48283.48795856866"
      ]
     },
     "execution_count": 117,
     "metadata": {},
     "output_type": "execute_result"
    }
   ],
   "source": [
    "#RMSE test score\n",
    "y_test_pred = optimal_lasso.predict(X_test)\n",
    "np.sqrt(metrics.mean_squared_error(y_test, y_test_pred))"
   ]
  },
  {
   "cell_type": "code",
   "execution_count": 124,
   "id": "8668a354-1eb6-4dbb-b572-dd7a27e0b6d2",
   "metadata": {
    "tags": []
   },
   "outputs": [
    {
     "data": {
      "text/html": [
       "<div>\n",
       "<style scoped>\n",
       "    .dataframe tbody tr th:only-of-type {\n",
       "        vertical-align: middle;\n",
       "    }\n",
       "\n",
       "    .dataframe tbody tr th {\n",
       "        vertical-align: top;\n",
       "    }\n",
       "\n",
       "    .dataframe thead th {\n",
       "        text-align: right;\n",
       "    }\n",
       "</style>\n",
       "<table border=\"1\" class=\"dataframe\">\n",
       "  <thead>\n",
       "    <tr style=\"text-align: right;\">\n",
       "      <th></th>\n",
       "      <th>variable</th>\n",
       "      <th>coef</th>\n",
       "      <th>abs_coef</th>\n",
       "    </tr>\n",
       "  </thead>\n",
       "  <tbody>\n",
       "    <tr>\n",
       "      <th>14</th>\n",
       "      <td>town_MARINE PARADE</td>\n",
       "      <td>212527.103445</td>\n",
       "      <td>212527.103445</td>\n",
       "    </tr>\n",
       "    <tr>\n",
       "      <th>38</th>\n",
       "      <td>full_flat_type_3 ROOM Terrace</td>\n",
       "      <td>186194.684030</td>\n",
       "      <td>186194.684030</td>\n",
       "    </tr>\n",
       "    <tr>\n",
       "      <th>5</th>\n",
       "      <td>town_BUKIT TIMAH</td>\n",
       "      <td>155297.286438</td>\n",
       "      <td>155297.286438</td>\n",
       "    </tr>\n",
       "    <tr>\n",
       "      <th>68</th>\n",
       "      <td>floor_area_sqm</td>\n",
       "      <td>100666.773591</td>\n",
       "      <td>100666.773591</td>\n",
       "    </tr>\n",
       "    <tr>\n",
       "      <th>52</th>\n",
       "      <td>full_flat_type_5 ROOM DBSS</td>\n",
       "      <td>97029.915710</td>\n",
       "      <td>97029.915710</td>\n",
       "    </tr>\n",
       "    <tr>\n",
       "      <th>23</th>\n",
       "      <td>town_WOODLANDS</td>\n",
       "      <td>-83864.199297</td>\n",
       "      <td>83864.199297</td>\n",
       "    </tr>\n",
       "    <tr>\n",
       "      <th>18</th>\n",
       "      <td>town_SEMBAWANG</td>\n",
       "      <td>-83775.048548</td>\n",
       "      <td>83775.048548</td>\n",
       "    </tr>\n",
       "    <tr>\n",
       "      <th>1</th>\n",
       "      <td>town_BISHAN</td>\n",
       "      <td>83299.113359</td>\n",
       "      <td>83299.113359</td>\n",
       "    </tr>\n",
       "    <tr>\n",
       "      <th>20</th>\n",
       "      <td>town_SERANGOON</td>\n",
       "      <td>64087.521160</td>\n",
       "      <td>64087.521160</td>\n",
       "    </tr>\n",
       "    <tr>\n",
       "      <th>17</th>\n",
       "      <td>town_QUEENSTOWN</td>\n",
       "      <td>62543.422789</td>\n",
       "      <td>62543.422789</td>\n",
       "    </tr>\n",
       "    <tr>\n",
       "      <th>7</th>\n",
       "      <td>town_CHOA CHU KANG</td>\n",
       "      <td>-57685.524174</td>\n",
       "      <td>57685.524174</td>\n",
       "    </tr>\n",
       "    <tr>\n",
       "      <th>40</th>\n",
       "      <td>full_flat_type_4 ROOM DBSS</td>\n",
       "      <td>52624.720700</td>\n",
       "      <td>52624.720700</td>\n",
       "    </tr>\n",
       "    <tr>\n",
       "      <th>4</th>\n",
       "      <td>town_BUKIT PANJANG</td>\n",
       "      <td>-52576.758783</td>\n",
       "      <td>52576.758783</td>\n",
       "    </tr>\n",
       "    <tr>\n",
       "      <th>12</th>\n",
       "      <td>town_JURONG WEST</td>\n",
       "      <td>-52175.728781</td>\n",
       "      <td>52175.728781</td>\n",
       "    </tr>\n",
       "    <tr>\n",
       "      <th>8</th>\n",
       "      <td>town_CLEMENTI</td>\n",
       "      <td>49737.748237</td>\n",
       "      <td>49737.748237</td>\n",
       "    </tr>\n",
       "    <tr>\n",
       "      <th>69</th>\n",
       "      <td>lease_commence_date</td>\n",
       "      <td>49700.536673</td>\n",
       "      <td>49700.536673</td>\n",
       "    </tr>\n",
       "    <tr>\n",
       "      <th>55</th>\n",
       "      <td>full_flat_type_5 ROOM Model A</td>\n",
       "      <td>-39583.180461</td>\n",
       "      <td>39583.180461</td>\n",
       "    </tr>\n",
       "    <tr>\n",
       "      <th>60</th>\n",
       "      <td>full_flat_type_5 ROOM Type S2</td>\n",
       "      <td>38671.885637</td>\n",
       "      <td>38671.885637</td>\n",
       "    </tr>\n",
       "    <tr>\n",
       "      <th>99</th>\n",
       "      <td>Hawker_Within_2km</td>\n",
       "      <td>30258.250907</td>\n",
       "      <td>30258.250907</td>\n",
       "    </tr>\n",
       "    <tr>\n",
       "      <th>42</th>\n",
       "      <td>full_flat_type_4 ROOM Model A</td>\n",
       "      <td>-29017.706381</td>\n",
       "      <td>29017.706381</td>\n",
       "    </tr>\n",
       "  </tbody>\n",
       "</table>\n",
       "</div>"
      ],
      "text/plain": [
       "                         variable           coef       abs_coef\n",
       "14             town_MARINE PARADE  212527.103445  212527.103445\n",
       "38  full_flat_type_3 ROOM Terrace  186194.684030  186194.684030\n",
       "5                town_BUKIT TIMAH  155297.286438  155297.286438\n",
       "68                 floor_area_sqm  100666.773591  100666.773591\n",
       "52     full_flat_type_5 ROOM DBSS   97029.915710   97029.915710\n",
       "23                 town_WOODLANDS  -83864.199297   83864.199297\n",
       "18                 town_SEMBAWANG  -83775.048548   83775.048548\n",
       "1                     town_BISHAN   83299.113359   83299.113359\n",
       "20                 town_SERANGOON   64087.521160   64087.521160\n",
       "17                town_QUEENSTOWN   62543.422789   62543.422789\n",
       "7              town_CHOA CHU KANG  -57685.524174   57685.524174\n",
       "40     full_flat_type_4 ROOM DBSS   52624.720700   52624.720700\n",
       "4              town_BUKIT PANJANG  -52576.758783   52576.758783\n",
       "12               town_JURONG WEST  -52175.728781   52175.728781\n",
       "8                   town_CLEMENTI   49737.748237   49737.748237\n",
       "69            lease_commence_date   49700.536673   49700.536673\n",
       "55  full_flat_type_5 ROOM Model A  -39583.180461   39583.180461\n",
       "60  full_flat_type_5 ROOM Type S2   38671.885637   38671.885637\n",
       "99              Hawker_Within_2km   30258.250907   30258.250907\n",
       "42  full_flat_type_4 ROOM Model A  -29017.706381   29017.706381"
      ]
     },
     "execution_count": 124,
     "metadata": {},
     "output_type": "execute_result"
    }
   ],
   "source": [
    "LassoCV_coefs = pd.DataFrame({'variable':X_train.columns,\n",
    "                            'coef':optimal_lasso.coef_,\n",
    "                            'abs_coef':np.abs(optimal_lasso.coef_)})\n",
    "\n",
    "LassoCV_coefs.sort_values('abs_coef', inplace=True, ascending=False)\n",
    "\n",
    "LassoCV_coefs.head(20)"
   ]
  },
  {
   "cell_type": "code",
   "execution_count": 128,
   "id": "b54d611e-c6e7-4399-9e91-3e1343d8e062",
   "metadata": {
    "tags": []
   },
   "outputs": [],
   "source": [
    "ridge_resid = y_train - RidgeCV.predict(X_train)\n",
    "lasso_resid = y_train - optimal_lasso.predict(X_train)"
   ]
  },
  {
   "cell_type": "code",
   "execution_count": 129,
   "id": "9ba72fb8-670d-46e1-ac55-52523cb32521",
   "metadata": {
    "tags": []
   },
   "outputs": [
    {
     "data": {
      "text/plain": [
       "<seaborn.axisgrid.JointGrid at 0x220a951ca30>"
      ]
     },
     "execution_count": 129,
     "metadata": {},
     "output_type": "execute_result"
    },
    {
     "data": {
      "image/png": "[encoded data removed]",
      "text/plain": [
       "<Figure size 600x600 with 3 Axes>"
      ]
     },
     "metadata": {},
     "output_type": "display_data"
    }
   ],
   "source": [
    "sns.jointplot(x=ridge_resid, y=lasso_resid)"
   ]
  },
  {
   "cell_type": "markdown",
   "id": "5a4db727-9335-41fe-9910-2b0a287537c6",
   "metadata": {},
   "source": [
    "- from the top contributing features, our modelling captures the location based parameters. Also, certain hdb is located only in a few locations. Therefore, they are also strongly correlated. It is interesting to note that town_sembawang has a negative correlation with price.\n",
    "\n",
    "- One of the other features which is captured:\n",
    "    - floor_area_sqm \n",
    "    - lease_commence_date\n",
    "    - Hawker_Within_2km"
   ]
  },
  {
   "cell_type": "markdown",
   "id": "7f2daa7f-9fc4-4264-b5e4-c803f98ec3fd",
   "metadata": {
    "tags": []
   },
   "source": [
    "## Model summary"
   ]
  },
  {
   "cell_type": "markdown",
   "id": "e58479de-2e84-4cea-ab83-676bff11d120",
   "metadata": {},
   "source": [
    "|Model|Cross validation score|R2 score|RMSE score|\n",
    "|:----|:----|:----|:----|\n",
    "|Linear_Regression|-5.04E+17|train: 0.8916|train: 47237|\n",
    "| | |test: 0.8916|test:46996|\n",
    "|Ridge_Regression|0.8913|train: 0.8916|train: 47237|\n",
    "| | |test: 0.8916|test: 46996|\n",
    "|Lasso_Regression|0.8858|train: 0.8916|train: 48420|\n",
    "| | |test: 0.8915|test: 48283|\n",
    "\n"
   ]
  },
  {
   "cell_type": "markdown",
   "id": "41f52a24-12ff-438f-8290-19e51406f1c2",
   "metadata": {
    "tags": []
   },
   "source": [
    "- Based on the model matrics, we choose, linear_regression as our best model\n",
    "- The reasons for linear regression outperforming the other models would be:\n",
    "    due to the clean data. We have already cleaned and orgainized the data by categories\n"
   ]
  }
 ],
 "metadata": {
  "kernelspec": {
   "display_name": "Python 3 (ipykernel)",
   "language": "python",
   "name": "python3"
  },
  "language_info": {
   "codemirror_mode": {
    "name": "ipython",
    "version": 3
   },
   "file_extension": ".py",
   "mimetype": "text/x-python",
   "name": "python",
   "nbconvert_exporter": "python",
   "pygments_lexer": "ipython3",
   "version": "3.8.16"
  }
 },
 "nbformat": 4,
 "nbformat_minor": 5
}
