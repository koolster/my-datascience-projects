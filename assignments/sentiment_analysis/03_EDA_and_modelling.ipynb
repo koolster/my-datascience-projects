{
 "cells": [
  {
   "cell_type": "code",
   "execution_count": 353,
   "metadata": {},
   "outputs": [],
   "source": [
    "# Import libraries\n",
    "import pandas as pd\n",
    "import seaborn as sns\n",
    "import matplotlib.pyplot as plt\n",
    "import numpy as np\n",
    "\n",
    "from nltk.tokenize import RegexpTokenizer\n",
    "from nltk.stem import WordNetLemmatizer, PorterStemmer, LancasterStemmer\n",
    "from nltk.corpus import stopwords\n",
    "\n",
    "from sklearn.model_selection import train_test_split\n",
    "from sklearn.naive_bayes import MultinomialNB\n",
    "from sklearn.ensemble import RandomForestClassifier\n",
    "from sklearn.neighbors import KNeighborsClassifier\n",
    "\n",
    "from sklearn.pipeline import Pipeline\n",
    "from sklearn.feature_extraction.text import CountVectorizer, TfidfVectorizer\n",
    "\n",
    "from sklearn.metrics import classification_report, ConfusionMatrixDisplay\n",
    "\n",
    "from sklearn.model_selection import GridSearchCV\n",
    "# Set seaborn style\n",
    "sns.set_style('whitegrid')\n",
    "\n",
    "# this setting widens how many characters pandas will display in a column:\n",
    "pd.options.display.max_colwidth = 400"
   ]
  },
  {
   "cell_type": "code",
   "execution_count": 354,
   "metadata": {},
   "outputs": [],
   "source": [
    "df = pd.read_csv(\"./data/reddit_comments_with_sentiment.csv\", index_col=0)"
   ]
  },
  {
   "cell_type": "code",
   "execution_count": 355,
   "metadata": {},
   "outputs": [
    {
     "name": "stdout",
     "output_type": "stream",
     "text": [
      "<class 'pandas.core.frame.DataFrame'>\n",
      "Index: 599 entries, 0 to 612\n",
      "Data columns (total 9 columns):\n",
      " #   Column            Non-Null Count  Dtype \n",
      "---  ------            --------------  ----- \n",
      " 0   date              599 non-null    object\n",
      " 1   sub_id            599 non-null    object\n",
      " 2   title             599 non-null    object\n",
      " 3   comment_id        599 non-null    object\n",
      " 4   comment_author    596 non-null    object\n",
      " 5   comment_text      599 non-null    object\n",
      " 6   upvote_score      599 non-null    int64 \n",
      " 7   comment_or_reply  599 non-null    object\n",
      " 8   sentiment         599 non-null    object\n",
      "dtypes: int64(1), object(8)\n",
      "memory usage: 46.8+ KB\n"
     ]
    }
   ],
   "source": [
    "# Check for nulls\n",
    "df.info()"
   ]
  },
  {
   "attachments": {},
   "cell_type": "markdown",
   "metadata": {},
   "source": [
    "**Comments:**\n",
    "- No Nulls are present except comment_author column. \n",
    "- This is fine as we would be primarily we would not be using this column."
   ]
  },
  {
   "attachments": {},
   "cell_type": "markdown",
   "metadata": {},
   "source": [
    "### Column analysis"
   ]
  },
  {
   "cell_type": "code",
   "execution_count": 356,
   "metadata": {},
   "outputs": [
    {
     "data": {
      "text/plain": [
       "count                              599\n",
       "mean     2023-04-25 15:35:12.480801280\n",
       "min                2023-04-22 23:44:49\n",
       "25%                2023-04-24 16:34:43\n",
       "50%                2023-04-26 05:11:22\n",
       "75%                2023-04-26 05:11:22\n",
       "max                2023-04-26 14:22:27\n",
       "Name: date, dtype: object"
      ]
     },
     "execution_count": 356,
     "metadata": {},
     "output_type": "execute_result"
    }
   ],
   "source": [
    "# Date column. change to datetime format.\n",
    "df['date'] = pd.to_datetime(df['date'])\n",
    "df.date.describe()"
   ]
  },
  {
   "attachments": {},
   "cell_type": "markdown",
   "metadata": {},
   "source": [
    "**Observation**\n",
    "- Earliest date of the post is 22 Apr to 26 Apr when this topic was hot."
   ]
  },
  {
   "cell_type": "code",
   "execution_count": 357,
   "metadata": {},
   "outputs": [
    {
     "data": {
      "text/plain": [
       "title\n",
       "Breaking: Singapore will execute man tomorrow over possession of Cannabis. So tragic, light one up for man if you’re fortunate to be able to                           269\n",
       "Tangaraju Suppiah executed after family's appeals for mercy failed - Singapore News                                                                                    100\n",
       "46-year-old Singaporean Tangaraju Suppiah is Set to Hang on 26th April for Cannabis Trafficking - Is Death too Harsh a Punishment?                                      78\n",
       "Why Tangaraju Suppiah doesn’t deserve to die                                                                                                                            37\n",
       "Foreigner Richard Branson Pokes His Nose in Singapore's Laws                                                                                                            36\n",
       "Even those who agree with the death penalty should worry about Tangaraju Suppiah's looming execution: Activist - Singapore News                                         29\n",
       "What are your thoughts on the to-be hanging of Tangaraju Suppiah, a Singaporean convicted for trafficking 1kg of Cannabis - and is there any way it can be stopped?     28\n",
       "Stubborn, stupid, cruel                                                                                                                                                 22\n",
       "Name: count, dtype: int64"
      ]
     },
     "execution_count": 357,
     "metadata": {},
     "output_type": "execute_result"
    }
   ],
   "source": [
    "df['title'].value_counts()"
   ]
  },
  {
   "attachments": {},
   "cell_type": "markdown",
   "metadata": {},
   "source": [
    "**Observation** </br>\n",
    "- Extracted post titles are relevant."
   ]
  },
  {
   "cell_type": "code",
   "execution_count": 358,
   "metadata": {},
   "outputs": [
    {
     "data": {
      "text/plain": [
       "count     599.000000\n",
       "mean       26.627713\n",
       "std       170.818529\n",
       "min      -186.000000\n",
       "25%         1.000000\n",
       "50%         2.000000\n",
       "75%        10.000000\n",
       "max      3329.000000\n",
       "Name: upvote_score, dtype: float64"
      ]
     },
     "execution_count": 358,
     "metadata": {},
     "output_type": "execute_result"
    }
   ],
   "source": [
    "#check 'upvote_score'\n",
    "df['upvote_score'].describe()"
   ]
  },
  {
   "attachments": {},
   "cell_type": "markdown",
   "metadata": {},
   "source": [
    "**Observations**\n",
    "-  Some comments have been downvoted indicated by the negative score. \n",
    "- Maximum number of upvotes is about 3K\n",
    "- median is about 2 upvotes indicated a large number of comments had a very small number of upvotes"
   ]
  },
  {
   "cell_type": "code",
   "execution_count": 359,
   "metadata": {},
   "outputs": [
    {
     "data": {
      "text/plain": [
       "comment_or_reply\n",
       "comment    371\n",
       "reply      228\n",
       "Name: count, dtype: int64"
      ]
     },
     "execution_count": 359,
     "metadata": {},
     "output_type": "execute_result"
    }
   ],
   "source": [
    "df['comment_or_reply'].value_counts()"
   ]
  },
  {
   "attachments": {},
   "cell_type": "markdown",
   "metadata": {},
   "source": [
    "**Comments**\n",
    "- We have a mixed number of comments or replies to comments in the data"
   ]
  },
  {
   "cell_type": "code",
   "execution_count": 360,
   "metadata": {},
   "outputs": [
    {
     "data": {
      "text/plain": [
       "Text(0, 0.5, 'Number of words')"
      ]
     },
     "execution_count": 360,
     "metadata": {},
     "output_type": "execute_result"
    },
    {
     "data": {
      "image/png": "[encoded data removed]",
      "text/plain": [
       "<Figure size 640x480 with 1 Axes>"
      ]
     },
     "metadata": {},
     "output_type": "display_data"
    }
   ],
   "source": [
    "df['comment_length'] = df['comment_text'].str.split().apply(len)\n",
    "df['comment_length'].hist(bins=50)\n",
    "plt.xlabel('Counts')\n",
    "plt.ylabel('Number of words')"
   ]
  },
  {
   "attachments": {},
   "cell_type": "markdown",
   "metadata": {},
   "source": [
    "**Observations**\n",
    "- No of words in a comment is plotted in the histogram above.\n",
    "- We can observe that higher frequency of comments has fewer words in the comments."
   ]
  },
  {
   "cell_type": "code",
   "execution_count": 361,
   "metadata": {},
   "outputs": [
    {
     "data": {
      "text/plain": [
       "count    599.000000\n",
       "mean      35.632721\n",
       "std       52.913149\n",
       "min        1.000000\n",
       "25%        9.000000\n",
       "50%       18.000000\n",
       "75%       41.000000\n",
       "max      694.000000\n",
       "Name: comment_length, dtype: float64"
      ]
     },
     "execution_count": 361,
     "metadata": {},
     "output_type": "execute_result"
    }
   ],
   "source": [
    "df['comment_length'].describe()"
   ]
  },
  {
   "attachments": {},
   "cell_type": "markdown",
   "metadata": {},
   "source": [
    "**Comments**\n",
    "- Median word length of the comments including stop words is about 20 words. There are some long comments.\n"
   ]
  },
  {
   "cell_type": "code",
   "execution_count": 362,
   "metadata": {},
   "outputs": [
    {
     "data": {
      "text/html": [
       "<div>\n",
       "<style scoped>\n",
       "    .dataframe tbody tr th:only-of-type {\n",
       "        vertical-align: middle;\n",
       "    }\n",
       "\n",
       "    .dataframe tbody tr th {\n",
       "        vertical-align: top;\n",
       "    }\n",
       "\n",
       "    .dataframe thead th {\n",
       "        text-align: right;\n",
       "    }\n",
       "</style>\n",
       "<table border=\"1\" class=\"dataframe\">\n",
       "  <thead>\n",
       "    <tr style=\"text-align: right;\">\n",
       "      <th></th>\n",
       "      <th>comment_text</th>\n",
       "    </tr>\n",
       "  </thead>\n",
       "  <tbody>\n",
       "    <tr>\n",
       "      <th>338</th>\n",
       "      <td>It's not that easy to get caught and charged with trafficking drugs and get you the mandatory death penalty, as long as you're not in the illegal drug trade.\\n\\n1. Don't succumb to temptation and traffic drugs, however desperate you are for cash.\\n\\n2. Mix with the right company. Don't get addicted to drugs and if you already are, go for rehab before the drugs mess with your mind so much you p...</td>\n",
       "    </tr>\n",
       "    <tr>\n",
       "      <th>182</th>\n",
       "      <td>I believe the more important factor/question isn't about the legality of cannabis in sg but rather the fact that he tried to traffick/smuggle it. (I'm for death penalty)\\n\\nConsuming it in Singapore is one thing - trying to bring it into Singapore is another. As for death penalty - I'm pretty sure its only the traffickers who gets it (might be wrong). If you consume drugs (be it 'hard' like co...</td>\n",
       "    </tr>\n",
       "    <tr>\n",
       "      <th>59</th>\n",
       "      <td>Easy to say just don’t do drugs, stopping an addiction to such substances is way more complex than what people here would like to believe. Desistance is not just about stopping the acts of drug taking, but also about believing in yourself adopting a new identity from before (you are no longer an addict and therefore will not partake in such an activity any further) \\n\\nIt’s not as simple as we...</td>\n",
       "    </tr>\n",
       "    <tr>\n",
       "      <th>10</th>\n",
       "      <td>The argument is that the mandatory death penalty is ineffectual because you tend to wind up executing large numbers of mules who basically don't impact the drug trade. Occasionally getting some mid level facilitator like this guy does not change the overall picture. TBH, I never really agreed with this argument because I think that the death penalty should perhaps only be used in the case of p...</td>\n",
       "    </tr>\n",
       "    <tr>\n",
       "      <th>319</th>\n",
       "      <td>I personally don't agree with legalisation, but perhaps decriminalisation for soft drugs, especially ones that have proven medicinal benefits, such as cannabis or psilocybin might be a smart move. \\n\\nSome drugs are legal in a growing number of places now, but it is often because drug use and addiction is so widespread in society, that it is simply no longer possible to police its use, so auth...</td>\n",
       "    </tr>\n",
       "  </tbody>\n",
       "</table>\n",
       "</div>"
      ],
      "text/plain": [
       "                                                                                                                                                                                                                                                                                                                                                                                                        comment_text\n",
       "338  It's not that easy to get caught and charged with trafficking drugs and get you the mandatory death penalty, as long as you're not in the illegal drug trade.\\n\\n1. Don't succumb to temptation and traffic drugs, however desperate you are for cash.\\n\\n2. Mix with the right company. Don't get addicted to drugs and if you already are, go for rehab before the drugs mess with your mind so much you p...\n",
       "182  I believe the more important factor/question isn't about the legality of cannabis in sg but rather the fact that he tried to traffick/smuggle it. (I'm for death penalty)\\n\\nConsuming it in Singapore is one thing - trying to bring it into Singapore is another. As for death penalty - I'm pretty sure its only the traffickers who gets it (might be wrong). If you consume drugs (be it 'hard' like co...\n",
       "59   Easy to say just don’t do drugs, stopping an addiction to such substances is way more complex than what people here would like to believe. Desistance is not just about stopping the acts of drug taking, but also about believing in yourself adopting a new identity from before (you are no longer an addict and therefore will not partake in such an activity any further) \\n\\nIt’s not as simple as we...\n",
       "10   The argument is that the mandatory death penalty is ineffectual because you tend to wind up executing large numbers of mules who basically don't impact the drug trade. Occasionally getting some mid level facilitator like this guy does not change the overall picture. TBH, I never really agreed with this argument because I think that the death penalty should perhaps only be used in the case of p...\n",
       "319  I personally don't agree with legalisation, but perhaps decriminalisation for soft drugs, especially ones that have proven medicinal benefits, such as cannabis or psilocybin might be a smart move. \\n\\nSome drugs are legal in a growing number of places now, but it is often because drug use and addiction is so widespread in society, that it is simply no longer possible to police its use, so auth..."
      ]
     },
     "execution_count": 362,
     "metadata": {},
     "output_type": "execute_result"
    }
   ],
   "source": [
    "df.sort_values(by='comment_length', ascending=False)[['comment_text']].head()"
   ]
  },
  {
   "attachments": {},
   "cell_type": "markdown",
   "metadata": {},
   "source": [
    "**Observations**\n",
    "- Top comments with the bigger word count is shown above. Few people write longer comments forming complex logical arguments."
   ]
  },
  {
   "cell_type": "code",
   "execution_count": 363,
   "metadata": {},
   "outputs": [
    {
     "data": {
      "text/html": [
       "<div>\n",
       "<style scoped>\n",
       "    .dataframe tbody tr th:only-of-type {\n",
       "        vertical-align: middle;\n",
       "    }\n",
       "\n",
       "    .dataframe tbody tr th {\n",
       "        vertical-align: top;\n",
       "    }\n",
       "\n",
       "    .dataframe thead th {\n",
       "        text-align: right;\n",
       "    }\n",
       "</style>\n",
       "<table border=\"1\" class=\"dataframe\">\n",
       "  <thead>\n",
       "    <tr style=\"text-align: right;\">\n",
       "      <th></th>\n",
       "      <th>comment_text</th>\n",
       "    </tr>\n",
       "  </thead>\n",
       "  <tbody>\n",
       "    <tr>\n",
       "      <th>93</th>\n",
       "      <td>yes</td>\n",
       "    </tr>\n",
       "    <tr>\n",
       "      <th>564</th>\n",
       "      <td>😢😢😢</td>\n",
       "    </tr>\n",
       "    <tr>\n",
       "      <th>359</th>\n",
       "      <td>Respect.</td>\n",
       "    </tr>\n",
       "    <tr>\n",
       "      <th>526</th>\n",
       "      <td>Martyr</td>\n",
       "    </tr>\n",
       "    <tr>\n",
       "      <th>435</th>\n",
       "      <td>Barbaric</td>\n",
       "    </tr>\n",
       "  </tbody>\n",
       "</table>\n",
       "</div>"
      ],
      "text/plain": [
       "    comment_text\n",
       "93           yes\n",
       "564          😢😢😢\n",
       "359     Respect.\n",
       "526       Martyr\n",
       "435     Barbaric"
      ]
     },
     "execution_count": 363,
     "metadata": {},
     "output_type": "execute_result"
    }
   ],
   "source": [
    "df.sort_values(by='comment_length', ascending=True)[['comment_text']].head()"
   ]
  },
  {
   "attachments": {},
   "cell_type": "markdown",
   "metadata": {},
   "source": [
    "**Observations**\n",
    "- Long comments are analysis presented by users. Short commetns are emotions."
   ]
  },
  {
   "cell_type": "code",
   "execution_count": 364,
   "metadata": {},
   "outputs": [
    {
     "data": {
      "text/plain": [
       "<Axes: xlabel='comment_length', ylabel='Probability'>"
      ]
     },
     "execution_count": 364,
     "metadata": {},
     "output_type": "execute_result"
    },
    {
     "data": {
      "image/png": "[encoded data removed]",
      "text/plain": [
       "<Figure size 640x480 with 1 Axes>"
      ]
     },
     "metadata": {},
     "output_type": "display_data"
    }
   ],
   "source": [
    "sns.histplot(df, x= 'comment_length', hue='sentiment', log_scale=True, stat='probability', multiple='dodge')"
   ]
  },
  {
   "attachments": {},
   "cell_type": "markdown",
   "metadata": {},
   "source": [
    "**Observations**\n",
    "- Negative sentiment sentences have a longer length. While neutral have the shortest"
   ]
  },
  {
   "cell_type": "code",
   "execution_count": 365,
   "metadata": {},
   "outputs": [
    {
     "data": {
      "text/plain": [
       "<Axes: ylabel='sentiment'>"
      ]
     },
     "execution_count": 365,
     "metadata": {},
     "output_type": "execute_result"
    },
    {
     "data": {
      "image/png": "[encoded data removed]",
      "text/plain": [
       "<Figure size 640x480 with 1 Axes>"
      ]
     },
     "metadata": {},
     "output_type": "display_data"
    }
   ],
   "source": [
    "df.sentiment.value_counts().plot(kind='barh')"
   ]
  },
  {
   "attachments": {},
   "cell_type": "markdown",
   "metadata": {},
   "source": [
    "**Observations**\n",
    "- A large number of negative sentiments"
   ]
  },
  {
   "attachments": {},
   "cell_type": "markdown",
   "metadata": {},
   "source": [
    "### Pre-processing"
   ]
  },
  {
   "cell_type": "code",
   "execution_count": 366,
   "metadata": {},
   "outputs": [],
   "source": [
    "# Convert all to lower string\n",
    "df['comment_text_lower'] = df['comment_text'].str.lower()"
   ]
  },
  {
   "cell_type": "code",
   "execution_count": 367,
   "metadata": {},
   "outputs": [],
   "source": [
    "tokenizer = RegexpTokenizer(r'\\w+') \n",
    "df['comment_text_tokenized']  =  df['comment_text_lower'].apply(lambda x: tokenizer.tokenize(x))"
   ]
  },
  {
   "cell_type": "code",
   "execution_count": 368,
   "metadata": {},
   "outputs": [],
   "source": [
    "# Instantiate lemmatizer.\n",
    "lemmatizer = WordNetLemmatizer()\n",
    "df['comment_text_lemmatized'] = df['comment_text_tokenized'].apply(lambda x: [lemmatizer.lemmatize(i) for i in x])"
   ]
  },
  {
   "cell_type": "code",
   "execution_count": 369,
   "metadata": {},
   "outputs": [],
   "source": [
    "df['comment_text_swremoved'] = df['comment_text_lemmatized'].apply(lambda x: [word for word in x if word not in stopwords.words('english')])\n"
   ]
  },
  {
   "cell_type": "code",
   "execution_count": 370,
   "metadata": {},
   "outputs": [],
   "source": [
    "# Instantiate PorterStemmer.\n",
    "p_stemmer = LancasterStemmer()\n",
    "df['comment_text_stemmed'] = df['comment_text_swremoved'].apply(lambda x: [p_stemmer.stem(i) for i in x])"
   ]
  },
  {
   "cell_type": "code",
   "execution_count": 371,
   "metadata": {},
   "outputs": [],
   "source": [
    "df['comments_final'] = df['comment_text_stemmed'].apply(lambda x: ' '.join(x))"
   ]
  },
  {
   "attachments": {},
   "cell_type": "markdown",
   "metadata": {},
   "source": [
    "### Modelling"
   ]
  },
  {
   "cell_type": "code",
   "execution_count": 372,
   "metadata": {},
   "outputs": [
    {
     "data": {
      "text/plain": [
       "Index(['date', 'sub_id', 'title', 'comment_id', 'comment_author',\n",
       "       'comment_text', 'upvote_score', 'comment_or_reply', 'sentiment',\n",
       "       'comment_length', 'comment_text_lower', 'comment_text_tokenized',\n",
       "       'comment_text_lemmatized', 'comment_text_swremoved',\n",
       "       'comment_text_stemmed', 'comments_final'],\n",
       "      dtype='object')"
      ]
     },
     "execution_count": 372,
     "metadata": {},
     "output_type": "execute_result"
    }
   ],
   "source": [
    "df.columns"
   ]
  },
  {
   "cell_type": "code",
   "execution_count": 373,
   "metadata": {},
   "outputs": [],
   "source": [
    "#train test splits. Use stratify since it is a unbalanced y\n",
    "X = df['comments_final'].copy()\n",
    "y = df['sentiment'].copy()\n",
    "X_train, X_test, y_train, y_test = train_test_split(X, y, random_state=42, shuffle = True, stratify=y)\n"
   ]
  },
  {
   "cell_type": "markdown",
   "metadata": {},
   "source": [
    "### Naive Bayes (BN)"
   ]
  },
  {
   "cell_type": "code",
   "execution_count": 374,
   "metadata": {},
   "outputs": [],
   "source": [
    "# NB\n",
    "pipe = Pipeline([\n",
    "    ('vec',  TfidfVectorizer()),\n",
    "    ('nb', MultinomialNB())\n",
    "])\n",
    "\n",
    "# Search over the following values of hyperparameters\n",
    "pipe_params = {\n",
    "    'vec__max_features': [100, 200, 500, 1000],\n",
    "    'vec__ngram_range': [(1,1), (1,2), (1,3)],\n",
    "    'nb__alpha': np.linspace(1, 10, 10)*1e-3\n",
    "}"
   ]
  },
  {
   "cell_type": "code",
   "execution_count": 521,
   "metadata": {},
   "outputs": [
    {
     "name": "stdout",
     "output_type": "stream",
     "text": [
      "Fitting 5 folds for each of 162 candidates, totalling 810 fits\n"
     ]
    },
    {
     "data": {
      "text/plain": [
       "{'rf__max_depth': 100,\n",
       " 'rf__min_samples_split': 15,\n",
       " 'rf__n_estimators': 100,\n",
       " 'vec__max_features': 500,\n",
       " 'vec__ngram_range': (1, 2)}"
      ]
     },
     "execution_count": 521,
     "metadata": {},
     "output_type": "execute_result"
    }
   ],
   "source": [
    "# Instantiate GridSearchCV\n",
    "gs_nb = GridSearchCV(pipe, pipe_params, cv=5, verbose=True, n_jobs=-1, scoring='roc_auc_ovr_weighted')\n",
    "\n",
    "# Fit GridSearch to training data\n",
    "gs_nb.fit(X_train, y_train)\n",
    "\n",
    "# Finding the Best Hyperparameter Values\n",
    "gs_nb.best_params_"
   ]
  },
  {
   "cell_type": "code",
   "execution_count": 522,
   "metadata": {},
   "outputs": [
    {
     "data": {
      "text/plain": [
       "0.7815803343376816"
      ]
     },
     "execution_count": 522,
     "metadata": {},
     "output_type": "execute_result"
    }
   ],
   "source": [
    "gs_nb.best_score_"
   ]
  },
  {
   "cell_type": "code",
   "execution_count": 523,
   "metadata": {},
   "outputs": [
    {
     "name": "stdout",
     "output_type": "stream",
     "text": [
      " train score 0.955456570155902\n",
      " test score 0.5733333333333334\n"
     ]
    }
   ],
   "source": [
    "print(f\" train score  {gs_nb.best_estimator_.score(X_train, y_train)}\")\n",
    "print(f\" test score {gs_nb.best_estimator_.score(X_test, y_test)}\")"
   ]
  },
  {
   "attachments": {},
   "cell_type": "markdown",
   "metadata": {},
   "source": [
    "**Observations:**\n",
    "- Higher train score due to the model is already trained on the X_train. Therefore, it is showing higher values as expected.\n",
    "- Test score shows lower values compared to the best fit model"
   ]
  },
  {
   "attachments": {},
   "cell_type": "markdown",
   "metadata": {},
   "source": [
    "### RandomForest"
   ]
  },
  {
   "cell_type": "code",
   "execution_count": 528,
   "metadata": {},
   "outputs": [],
   "source": [
    "# RandomForest\n",
    "pipe = Pipeline([\n",
    "    ('vec',  TfidfVectorizer()),\n",
    "    ('rf', RandomForestClassifier())\n",
    "])\n",
    "\n",
    "# Search over the following values of hyperparameters\n",
    "pipe_params = {\n",
    "    'vec__max_features': [200, 500],\n",
    "    'vec__ngram_range': [(1,1), (1,2)],\n",
    "    'rf__n_estimators': [25, 50],\n",
    "    'rf__max_depth': [ 25, 50],\n",
    "    'rf__min_samples_split': [10, 15, 25]\n",
    "}"
   ]
  },
  {
   "cell_type": "code",
   "execution_count": 529,
   "metadata": {},
   "outputs": [
    {
     "name": "stdout",
     "output_type": "stream",
     "text": [
      "Fitting 5 folds for each of 48 candidates, totalling 240 fits\n"
     ]
    },
    {
     "data": {
      "text/plain": [
       "{'rf__max_depth': 50,\n",
       " 'rf__min_samples_split': 25,\n",
       " 'rf__n_estimators': 50,\n",
       " 'vec__max_features': 500,\n",
       " 'vec__ngram_range': (1, 2)}"
      ]
     },
     "execution_count": 529,
     "metadata": {},
     "output_type": "execute_result"
    }
   ],
   "source": [
    "# Instantiate GridSearchCV\n",
    "gs_rf = GridSearchCV(pipe, pipe_params, cv=5, verbose=True, n_jobs=-1, scoring='roc_auc_ovr_weighted')\n",
    "\n",
    "# Fit GridSearch to training data\n",
    "gs_rf.fit(X_train, y_train)\n",
    "\n",
    "# Finding the Best Hyperparameter Values\n",
    "gs_rf.best_params_"
   ]
  },
  {
   "cell_type": "code",
   "execution_count": 530,
   "metadata": {},
   "outputs": [
    {
     "data": {
      "text/plain": [
       "0.7739341449481034"
      ]
     },
     "execution_count": 530,
     "metadata": {},
     "output_type": "execute_result"
    }
   ],
   "source": [
    "gs_rf.best_score_\n"
   ]
  },
  {
   "cell_type": "code",
   "execution_count": 531,
   "metadata": {},
   "outputs": [
    {
     "name": "stdout",
     "output_type": "stream",
     "text": [
      " train score 0.9131403118040089\n",
      " test score 0.58\n"
     ]
    }
   ],
   "source": [
    "print(f\" train score {gs_rf.best_estimator_.score(X_train, y_train)}\")\n",
    "print(f\" test score {gs_rf.best_estimator_.score(X_test, y_test)}\")"
   ]
  },
  {
   "attachments": {},
   "cell_type": "markdown",
   "metadata": {},
   "source": [
    "**Observations:**\n",
    "- Higher train score due to the model is already trained on the X_train. Therefore, it is showing higher values as expected.\n",
    "- Test score shows lower values compared to the best fit model"
   ]
  },
  {
   "attachments": {},
   "cell_type": "markdown",
   "metadata": {},
   "source": [
    "### KNN"
   ]
  },
  {
   "cell_type": "code",
   "execution_count": 485,
   "metadata": {},
   "outputs": [],
   "source": [
    "# KNN\n",
    "pipe = Pipeline([\n",
    "    ('vec',  TfidfVectorizer()),\n",
    "    ('kn', KNeighborsClassifier())\n",
    "])\n",
    "\n",
    "# Search over the following values of hyperparameters\n",
    "pipe_params = {\n",
    "    'vec__max_features': [200, 5000],\n",
    "    'vec__ngram_range': [(1,1), (1,2), (1,3)],\n",
    "    'kn__n_neighbors': [10, 20, 30] \n",
    "}"
   ]
  },
  {
   "cell_type": "code",
   "execution_count": 506,
   "metadata": {},
   "outputs": [
    {
     "name": "stdout",
     "output_type": "stream",
     "text": [
      "Fitting 5 folds for each of 162 candidates, totalling 810 fits\n"
     ]
    },
    {
     "data": {
      "text/plain": [
       "{'rf__max_depth': 100,\n",
       " 'rf__min_samples_split': 15,\n",
       " 'rf__n_estimators': 50,\n",
       " 'vec__max_features': 1000,\n",
       " 'vec__ngram_range': (1, 2)}"
      ]
     },
     "execution_count": 506,
     "metadata": {},
     "output_type": "execute_result"
    }
   ],
   "source": [
    "# Instantiate GridSearchCV\n",
    "gs_kn = GridSearchCV(pipe, pipe_params, cv=5, verbose=True, n_jobs=-1, scoring='roc_auc_ovr_weighted')\n",
    "\n",
    "# Fit GridSearch to training data\n",
    "gs_kn.fit(X_train, y_train)\n",
    "\n",
    "# Finding the Best Hyperparameter Values\n",
    "gs_kn.best_params_"
   ]
  },
  {
   "cell_type": "code",
   "execution_count": 507,
   "metadata": {},
   "outputs": [
    {
     "data": {
      "text/plain": [
       "0.7818897754463192"
      ]
     },
     "execution_count": 507,
     "metadata": {},
     "output_type": "execute_result"
    }
   ],
   "source": [
    "gs_kn.best_score_"
   ]
  },
  {
   "cell_type": "code",
   "execution_count": 532,
   "metadata": {},
   "outputs": [
    {
     "name": "stdout",
     "output_type": "stream",
     "text": [
      " train score 0.9732739420935412\n",
      " test score 0.6133333333333333\n"
     ]
    }
   ],
   "source": [
    "print(f\" train score {gs_kn.best_estimator_.score(X_train, y_train)}\")\n",
    "print(f\" test score {gs_kn.best_estimator_.score(X_test, y_test)}\")"
   ]
  },
  {
   "attachments": {},
   "cell_type": "markdown",
   "metadata": {},
   "source": [
    "**Observations:**\n",
    "- Higher train score due to the model is already trained on the X_train. Therefore, it is showing higher values as expected.\n",
    "- Test score shows lower values compared to the best fit model"
   ]
  },
  {
   "cell_type": "code",
   "execution_count": 533,
   "metadata": {},
   "outputs": [
    {
     "name": "stdout",
     "output_type": "stream",
     "text": [
      "              precision    recall  f1-score   support\n",
      "\n",
      "    Negative       0.62      0.88      0.72        88\n",
      "     Neutral       0.33      0.14      0.20        28\n",
      "    Positive       0.46      0.18      0.26        34\n",
      "\n",
      "    accuracy                           0.58       150\n",
      "   macro avg       0.47      0.40      0.39       150\n",
      "weighted avg       0.53      0.58      0.52       150\n",
      "\n"
     ]
    }
   ],
   "source": [
    "y_pred = gs_rf.best_estimator_.predict(X_test)\n",
    "print(classification_report(y_test, y_pred))"
   ]
  },
  {
   "cell_type": "code",
   "execution_count": 452,
   "metadata": {},
   "outputs": [
    {
     "data": {
      "text/html": [
       "<div>\n",
       "<style scoped>\n",
       "    .dataframe tbody tr th:only-of-type {\n",
       "        vertical-align: middle;\n",
       "    }\n",
       "\n",
       "    .dataframe tbody tr th {\n",
       "        vertical-align: top;\n",
       "    }\n",
       "\n",
       "    .dataframe thead th {\n",
       "        text-align: right;\n",
       "    }\n",
       "</style>\n",
       "<table border=\"1\" class=\"dataframe\">\n",
       "  <thead>\n",
       "    <tr style=\"text-align: right;\">\n",
       "      <th></th>\n",
       "      <th>precision</th>\n",
       "      <th>recall</th>\n",
       "      <th>f1-score</th>\n",
       "      <th>support</th>\n",
       "    </tr>\n",
       "  </thead>\n",
       "  <tbody>\n",
       "    <tr>\n",
       "      <th>Negative</th>\n",
       "      <td>0.602941</td>\n",
       "      <td>0.931818</td>\n",
       "      <td>0.732143</td>\n",
       "      <td>88.000000</td>\n",
       "    </tr>\n",
       "    <tr>\n",
       "      <th>Neutral</th>\n",
       "      <td>0.250000</td>\n",
       "      <td>0.035714</td>\n",
       "      <td>0.062500</td>\n",
       "      <td>28.000000</td>\n",
       "    </tr>\n",
       "    <tr>\n",
       "      <th>Positive</th>\n",
       "      <td>0.600000</td>\n",
       "      <td>0.176471</td>\n",
       "      <td>0.272727</td>\n",
       "      <td>34.000000</td>\n",
       "    </tr>\n",
       "    <tr>\n",
       "      <th>accuracy</th>\n",
       "      <td>0.593333</td>\n",
       "      <td>0.593333</td>\n",
       "      <td>0.593333</td>\n",
       "      <td>0.593333</td>\n",
       "    </tr>\n",
       "    <tr>\n",
       "      <th>macro avg</th>\n",
       "      <td>0.484314</td>\n",
       "      <td>0.381334</td>\n",
       "      <td>0.355790</td>\n",
       "      <td>150.000000</td>\n",
       "    </tr>\n",
       "    <tr>\n",
       "      <th>weighted avg</th>\n",
       "      <td>0.536392</td>\n",
       "      <td>0.593333</td>\n",
       "      <td>0.503009</td>\n",
       "      <td>150.000000</td>\n",
       "    </tr>\n",
       "  </tbody>\n",
       "</table>\n",
       "</div>"
      ],
      "text/plain": [
       "              precision    recall  f1-score     support\n",
       "Negative       0.602941  0.931818  0.732143   88.000000\n",
       "Neutral        0.250000  0.035714  0.062500   28.000000\n",
       "Positive       0.600000  0.176471  0.272727   34.000000\n",
       "accuracy       0.593333  0.593333  0.593333    0.593333\n",
       "macro avg      0.484314  0.381334  0.355790  150.000000\n",
       "weighted avg   0.536392  0.593333  0.503009  150.000000"
      ]
     },
     "execution_count": 452,
     "metadata": {},
     "output_type": "execute_result"
    }
   ],
   "source": [
    "\n",
    "cr =classification_report(y_test, y_pred, output_dict=True )\n",
    "pd.DataFrame(cr).transpose()"
   ]
  },
  {
   "cell_type": "code",
   "execution_count": 534,
   "metadata": {},
   "outputs": [
    {
     "data": {
      "text/plain": [
       "<sklearn.metrics._plot.confusion_matrix.ConfusionMatrixDisplay at 0x1f070901160>"
      ]
     },
     "execution_count": 534,
     "metadata": {},
     "output_type": "execute_result"
    },
    {
     "data": {
      "image/png": "[encoded data removed]",
      "text/plain": [
       "<Figure size 640x480 with 2 Axes>"
      ]
     },
     "metadata": {},
     "output_type": "display_data"
    }
   ],
   "source": [
    "sns.set_style('white')\n",
    "ConfusionMatrixDisplay.from_predictions(y_test, y_pred)"
   ]
  }
 ],
 "metadata": {
  "kernelspec": {
   "display_name": "Python 3 (ipykernel)",
   "language": "python",
   "name": "python3"
  },
  "orig_nbformat": 4
 },
 "nbformat": 4,
 "nbformat_minor": 2
}
